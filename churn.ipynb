{
 "cells": [
  {
   "cell_type": "code",
   "execution_count": null,
   "metadata": {
    "colab": {
     "base_uri": "https://localhost:8080/"
    },
    "id": "8MZMnaWnbG1r",
    "outputId": "b99bd9e6-cdd9-462d-abd8-c92360741735"
   },
   "outputs": [
    {
     "name": "stdout",
     "output_type": "stream",
     "text": [
      "Mounted at /content/drive\n"
     ]
    }
   ],
   "source": [
    "\n",
    "\n",
    "from google.colab import drive\n",
    "drive.mount('/content/drive')"
   ]
  },
  {
   "cell_type": "code",
   "execution_count": 1,
   "metadata": {
    "id": "fCUIatUYlOKC"
   },
   "outputs": [],
   "source": [
    "import os\n",
    "import pandas as pd\n",
    "import numpy as np\n",
    "import seaborn as sns\n",
    "import matplotlib.pyplot as plt\n",
    "from sklearn import preprocessing\n"
   ]
  },
  {
   "cell_type": "markdown",
   "metadata": {
    "id": "WwdpIrvNgilL"
   },
   "source": [
    "#Data preparation\n",
    "\n"
   ]
  },
  {
   "cell_type": "code",
   "execution_count": 2,
   "metadata": {
    "id": "qn_Jd2ZCl6-d"
   },
   "outputs": [],
   "source": [
    "BASE_PATH = os.getcwd()+'/drive/MyDrive/Churn'\n",
    "DATA_PATH = os.path.join(BASE_PATH, \"data\")"
   ]
  },
  {
   "cell_type": "code",
   "execution_count": 3,
   "metadata": {
    "colab": {
     "base_uri": "https://localhost:8080/",
     "height": 354
    },
    "id": "BhauVzETmWsh",
    "outputId": "0044a16f-9fb1-4612-c12e-9707e54ab7fa"
   },
   "outputs": [
    {
     "ename": "FileNotFoundError",
     "evalue": "ignored",
     "output_type": "error",
     "traceback": [
      "\u001b[0;31m---------------------------------------------------------------------------\u001b[0m",
      "\u001b[0;31mFileNotFoundError\u001b[0m                         Traceback (most recent call last)",
      "\u001b[0;32m<ipython-input-3-30cfeef4a99a>\u001b[0m in \u001b[0;36m<module>\u001b[0;34m()\u001b[0m\n\u001b[1;32m      1\u001b[0m \u001b[0mcsv_file\u001b[0m \u001b[0;34m=\u001b[0m \u001b[0mos\u001b[0m\u001b[0;34m.\u001b[0m\u001b[0mpath\u001b[0m\u001b[0;34m.\u001b[0m\u001b[0mjoin\u001b[0m\u001b[0;34m(\u001b[0m\u001b[0mDATA_PATH\u001b[0m\u001b[0;34m,\u001b[0m \u001b[0;34m'Telco_customer_churn.xlsx'\u001b[0m\u001b[0;34m)\u001b[0m\u001b[0;34m\u001b[0m\u001b[0;34m\u001b[0m\u001b[0m\n\u001b[0;32m----> 2\u001b[0;31m \u001b[0mtrain_df\u001b[0m \u001b[0;34m=\u001b[0m \u001b[0mpd\u001b[0m\u001b[0;34m.\u001b[0m\u001b[0mread_excel\u001b[0m\u001b[0;34m(\u001b[0m\u001b[0mcsv_file\u001b[0m\u001b[0;34m)\u001b[0m\u001b[0;34m\u001b[0m\u001b[0;34m\u001b[0m\u001b[0m\n\u001b[0m\u001b[1;32m      3\u001b[0m \u001b[0mtrain_df\u001b[0m\u001b[0;34m.\u001b[0m\u001b[0mhead\u001b[0m\u001b[0;34m(\u001b[0m\u001b[0;34m)\u001b[0m\u001b[0;34m\u001b[0m\u001b[0;34m\u001b[0m\u001b[0m\n",
      "\u001b[0;32m/usr/local/lib/python3.7/dist-packages/pandas/util/_decorators.py\u001b[0m in \u001b[0;36mwrapper\u001b[0;34m(*args, **kwargs)\u001b[0m\n\u001b[1;32m    294\u001b[0m                 )\n\u001b[1;32m    295\u001b[0m                 \u001b[0mwarnings\u001b[0m\u001b[0;34m.\u001b[0m\u001b[0mwarn\u001b[0m\u001b[0;34m(\u001b[0m\u001b[0mmsg\u001b[0m\u001b[0;34m,\u001b[0m \u001b[0mFutureWarning\u001b[0m\u001b[0;34m,\u001b[0m \u001b[0mstacklevel\u001b[0m\u001b[0;34m=\u001b[0m\u001b[0mstacklevel\u001b[0m\u001b[0;34m)\u001b[0m\u001b[0;34m\u001b[0m\u001b[0;34m\u001b[0m\u001b[0m\n\u001b[0;32m--> 296\u001b[0;31m             \u001b[0;32mreturn\u001b[0m \u001b[0mfunc\u001b[0m\u001b[0;34m(\u001b[0m\u001b[0;34m*\u001b[0m\u001b[0margs\u001b[0m\u001b[0;34m,\u001b[0m \u001b[0;34m**\u001b[0m\u001b[0mkwargs\u001b[0m\u001b[0;34m)\u001b[0m\u001b[0;34m\u001b[0m\u001b[0;34m\u001b[0m\u001b[0m\n\u001b[0m\u001b[1;32m    297\u001b[0m \u001b[0;34m\u001b[0m\u001b[0m\n\u001b[1;32m    298\u001b[0m         \u001b[0;32mreturn\u001b[0m \u001b[0mwrapper\u001b[0m\u001b[0;34m\u001b[0m\u001b[0;34m\u001b[0m\u001b[0m\n",
      "\u001b[0;32m/usr/local/lib/python3.7/dist-packages/pandas/io/excel/_base.py\u001b[0m in \u001b[0;36mread_excel\u001b[0;34m(io, sheet_name, header, names, index_col, usecols, squeeze, dtype, engine, converters, true_values, false_values, skiprows, nrows, na_values, keep_default_na, na_filter, verbose, parse_dates, date_parser, thousands, comment, skipfooter, convert_float, mangle_dupe_cols)\u001b[0m\n\u001b[1;32m    302\u001b[0m \u001b[0;34m\u001b[0m\u001b[0m\n\u001b[1;32m    303\u001b[0m     \u001b[0;32mif\u001b[0m \u001b[0;32mnot\u001b[0m \u001b[0misinstance\u001b[0m\u001b[0;34m(\u001b[0m\u001b[0mio\u001b[0m\u001b[0;34m,\u001b[0m \u001b[0mExcelFile\u001b[0m\u001b[0;34m)\u001b[0m\u001b[0;34m:\u001b[0m\u001b[0;34m\u001b[0m\u001b[0;34m\u001b[0m\u001b[0m\n\u001b[0;32m--> 304\u001b[0;31m         \u001b[0mio\u001b[0m \u001b[0;34m=\u001b[0m \u001b[0mExcelFile\u001b[0m\u001b[0;34m(\u001b[0m\u001b[0mio\u001b[0m\u001b[0;34m,\u001b[0m \u001b[0mengine\u001b[0m\u001b[0;34m=\u001b[0m\u001b[0mengine\u001b[0m\u001b[0;34m)\u001b[0m\u001b[0;34m\u001b[0m\u001b[0;34m\u001b[0m\u001b[0m\n\u001b[0m\u001b[1;32m    305\u001b[0m     \u001b[0;32melif\u001b[0m \u001b[0mengine\u001b[0m \u001b[0;32mand\u001b[0m \u001b[0mengine\u001b[0m \u001b[0;34m!=\u001b[0m \u001b[0mio\u001b[0m\u001b[0;34m.\u001b[0m\u001b[0mengine\u001b[0m\u001b[0;34m:\u001b[0m\u001b[0;34m\u001b[0m\u001b[0;34m\u001b[0m\u001b[0m\n\u001b[1;32m    306\u001b[0m         raise ValueError(\n",
      "\u001b[0;32m/usr/local/lib/python3.7/dist-packages/pandas/io/excel/_base.py\u001b[0m in \u001b[0;36m__init__\u001b[0;34m(self, path_or_buffer, engine)\u001b[0m\n\u001b[1;32m    865\u001b[0m         \u001b[0mself\u001b[0m\u001b[0;34m.\u001b[0m\u001b[0m_io\u001b[0m \u001b[0;34m=\u001b[0m \u001b[0mstringify_path\u001b[0m\u001b[0;34m(\u001b[0m\u001b[0mpath_or_buffer\u001b[0m\u001b[0;34m)\u001b[0m\u001b[0;34m\u001b[0m\u001b[0;34m\u001b[0m\u001b[0m\n\u001b[1;32m    866\u001b[0m \u001b[0;34m\u001b[0m\u001b[0m\n\u001b[0;32m--> 867\u001b[0;31m         \u001b[0mself\u001b[0m\u001b[0;34m.\u001b[0m\u001b[0m_reader\u001b[0m \u001b[0;34m=\u001b[0m \u001b[0mself\u001b[0m\u001b[0;34m.\u001b[0m\u001b[0m_engines\u001b[0m\u001b[0;34m[\u001b[0m\u001b[0mengine\u001b[0m\u001b[0;34m]\u001b[0m\u001b[0;34m(\u001b[0m\u001b[0mself\u001b[0m\u001b[0;34m.\u001b[0m\u001b[0m_io\u001b[0m\u001b[0;34m)\u001b[0m\u001b[0;34m\u001b[0m\u001b[0;34m\u001b[0m\u001b[0m\n\u001b[0m\u001b[1;32m    868\u001b[0m \u001b[0;34m\u001b[0m\u001b[0m\n\u001b[1;32m    869\u001b[0m     \u001b[0;32mdef\u001b[0m \u001b[0m__fspath__\u001b[0m\u001b[0;34m(\u001b[0m\u001b[0mself\u001b[0m\u001b[0;34m)\u001b[0m\u001b[0;34m:\u001b[0m\u001b[0;34m\u001b[0m\u001b[0;34m\u001b[0m\u001b[0m\n",
      "\u001b[0;32m/usr/local/lib/python3.7/dist-packages/pandas/io/excel/_xlrd.py\u001b[0m in \u001b[0;36m__init__\u001b[0;34m(self, filepath_or_buffer)\u001b[0m\n\u001b[1;32m     20\u001b[0m         \u001b[0merr_msg\u001b[0m \u001b[0;34m=\u001b[0m \u001b[0;34m\"Install xlrd >= 1.0.0 for Excel support\"\u001b[0m\u001b[0;34m\u001b[0m\u001b[0;34m\u001b[0m\u001b[0m\n\u001b[1;32m     21\u001b[0m         \u001b[0mimport_optional_dependency\u001b[0m\u001b[0;34m(\u001b[0m\u001b[0;34m\"xlrd\"\u001b[0m\u001b[0;34m,\u001b[0m \u001b[0mextra\u001b[0m\u001b[0;34m=\u001b[0m\u001b[0merr_msg\u001b[0m\u001b[0;34m)\u001b[0m\u001b[0;34m\u001b[0m\u001b[0;34m\u001b[0m\u001b[0m\n\u001b[0;32m---> 22\u001b[0;31m         \u001b[0msuper\u001b[0m\u001b[0;34m(\u001b[0m\u001b[0;34m)\u001b[0m\u001b[0;34m.\u001b[0m\u001b[0m__init__\u001b[0m\u001b[0;34m(\u001b[0m\u001b[0mfilepath_or_buffer\u001b[0m\u001b[0;34m)\u001b[0m\u001b[0;34m\u001b[0m\u001b[0;34m\u001b[0m\u001b[0m\n\u001b[0m\u001b[1;32m     23\u001b[0m \u001b[0;34m\u001b[0m\u001b[0m\n\u001b[1;32m     24\u001b[0m     \u001b[0;34m@\u001b[0m\u001b[0mproperty\u001b[0m\u001b[0;34m\u001b[0m\u001b[0;34m\u001b[0m\u001b[0m\n",
      "\u001b[0;32m/usr/local/lib/python3.7/dist-packages/pandas/io/excel/_base.py\u001b[0m in \u001b[0;36m__init__\u001b[0;34m(self, filepath_or_buffer)\u001b[0m\n\u001b[1;32m    351\u001b[0m             \u001b[0mself\u001b[0m\u001b[0;34m.\u001b[0m\u001b[0mbook\u001b[0m \u001b[0;34m=\u001b[0m \u001b[0mself\u001b[0m\u001b[0;34m.\u001b[0m\u001b[0mload_workbook\u001b[0m\u001b[0;34m(\u001b[0m\u001b[0mfilepath_or_buffer\u001b[0m\u001b[0;34m)\u001b[0m\u001b[0;34m\u001b[0m\u001b[0;34m\u001b[0m\u001b[0m\n\u001b[1;32m    352\u001b[0m         \u001b[0;32melif\u001b[0m \u001b[0misinstance\u001b[0m\u001b[0;34m(\u001b[0m\u001b[0mfilepath_or_buffer\u001b[0m\u001b[0;34m,\u001b[0m \u001b[0mstr\u001b[0m\u001b[0;34m)\u001b[0m\u001b[0;34m:\u001b[0m\u001b[0;34m\u001b[0m\u001b[0;34m\u001b[0m\u001b[0m\n\u001b[0;32m--> 353\u001b[0;31m             \u001b[0mself\u001b[0m\u001b[0;34m.\u001b[0m\u001b[0mbook\u001b[0m \u001b[0;34m=\u001b[0m \u001b[0mself\u001b[0m\u001b[0;34m.\u001b[0m\u001b[0mload_workbook\u001b[0m\u001b[0;34m(\u001b[0m\u001b[0mfilepath_or_buffer\u001b[0m\u001b[0;34m)\u001b[0m\u001b[0;34m\u001b[0m\u001b[0;34m\u001b[0m\u001b[0m\n\u001b[0m\u001b[1;32m    354\u001b[0m         \u001b[0;32melif\u001b[0m \u001b[0misinstance\u001b[0m\u001b[0;34m(\u001b[0m\u001b[0mfilepath_or_buffer\u001b[0m\u001b[0;34m,\u001b[0m \u001b[0mbytes\u001b[0m\u001b[0;34m)\u001b[0m\u001b[0;34m:\u001b[0m\u001b[0;34m\u001b[0m\u001b[0;34m\u001b[0m\u001b[0m\n\u001b[1;32m    355\u001b[0m             \u001b[0mself\u001b[0m\u001b[0;34m.\u001b[0m\u001b[0mbook\u001b[0m \u001b[0;34m=\u001b[0m \u001b[0mself\u001b[0m\u001b[0;34m.\u001b[0m\u001b[0mload_workbook\u001b[0m\u001b[0;34m(\u001b[0m\u001b[0mBytesIO\u001b[0m\u001b[0;34m(\u001b[0m\u001b[0mfilepath_or_buffer\u001b[0m\u001b[0;34m)\u001b[0m\u001b[0;34m)\u001b[0m\u001b[0;34m\u001b[0m\u001b[0;34m\u001b[0m\u001b[0m\n",
      "\u001b[0;32m/usr/local/lib/python3.7/dist-packages/pandas/io/excel/_xlrd.py\u001b[0m in \u001b[0;36mload_workbook\u001b[0;34m(self, filepath_or_buffer)\u001b[0m\n\u001b[1;32m     35\u001b[0m             \u001b[0;32mreturn\u001b[0m \u001b[0mopen_workbook\u001b[0m\u001b[0;34m(\u001b[0m\u001b[0mfile_contents\u001b[0m\u001b[0;34m=\u001b[0m\u001b[0mdata\u001b[0m\u001b[0;34m)\u001b[0m\u001b[0;34m\u001b[0m\u001b[0;34m\u001b[0m\u001b[0m\n\u001b[1;32m     36\u001b[0m         \u001b[0;32melse\u001b[0m\u001b[0;34m:\u001b[0m\u001b[0;34m\u001b[0m\u001b[0;34m\u001b[0m\u001b[0m\n\u001b[0;32m---> 37\u001b[0;31m             \u001b[0;32mreturn\u001b[0m \u001b[0mopen_workbook\u001b[0m\u001b[0;34m(\u001b[0m\u001b[0mfilepath_or_buffer\u001b[0m\u001b[0;34m)\u001b[0m\u001b[0;34m\u001b[0m\u001b[0;34m\u001b[0m\u001b[0m\n\u001b[0m\u001b[1;32m     38\u001b[0m \u001b[0;34m\u001b[0m\u001b[0m\n\u001b[1;32m     39\u001b[0m     \u001b[0;34m@\u001b[0m\u001b[0mproperty\u001b[0m\u001b[0;34m\u001b[0m\u001b[0;34m\u001b[0m\u001b[0m\n",
      "\u001b[0;32m/usr/local/lib/python3.7/dist-packages/xlrd/__init__.py\u001b[0m in \u001b[0;36mopen_workbook\u001b[0;34m(filename, logfile, verbosity, use_mmap, file_contents, encoding_override, formatting_info, on_demand, ragged_rows)\u001b[0m\n\u001b[1;32m    114\u001b[0m         \u001b[0mpeek\u001b[0m \u001b[0;34m=\u001b[0m \u001b[0mfile_contents\u001b[0m\u001b[0;34m[\u001b[0m\u001b[0;34m:\u001b[0m\u001b[0mpeeksz\u001b[0m\u001b[0;34m]\u001b[0m\u001b[0;34m\u001b[0m\u001b[0;34m\u001b[0m\u001b[0m\n\u001b[1;32m    115\u001b[0m     \u001b[0;32melse\u001b[0m\u001b[0;34m:\u001b[0m\u001b[0;34m\u001b[0m\u001b[0;34m\u001b[0m\u001b[0m\n\u001b[0;32m--> 116\u001b[0;31m         \u001b[0;32mwith\u001b[0m \u001b[0mopen\u001b[0m\u001b[0;34m(\u001b[0m\u001b[0mfilename\u001b[0m\u001b[0;34m,\u001b[0m \u001b[0;34m\"rb\"\u001b[0m\u001b[0;34m)\u001b[0m \u001b[0;32mas\u001b[0m \u001b[0mf\u001b[0m\u001b[0;34m:\u001b[0m\u001b[0;34m\u001b[0m\u001b[0;34m\u001b[0m\u001b[0m\n\u001b[0m\u001b[1;32m    117\u001b[0m             \u001b[0mpeek\u001b[0m \u001b[0;34m=\u001b[0m \u001b[0mf\u001b[0m\u001b[0;34m.\u001b[0m\u001b[0mread\u001b[0m\u001b[0;34m(\u001b[0m\u001b[0mpeeksz\u001b[0m\u001b[0;34m)\u001b[0m\u001b[0;34m\u001b[0m\u001b[0;34m\u001b[0m\u001b[0m\n\u001b[1;32m    118\u001b[0m     \u001b[0;32mif\u001b[0m \u001b[0mpeek\u001b[0m \u001b[0;34m==\u001b[0m \u001b[0;34mb\"PK\\x03\\x04\"\u001b[0m\u001b[0;34m:\u001b[0m \u001b[0;31m# a ZIP file\u001b[0m\u001b[0;34m\u001b[0m\u001b[0;34m\u001b[0m\u001b[0m\n",
      "\u001b[0;31mFileNotFoundError\u001b[0m: [Errno 2] No such file or directory: '/content/drive/MyDrive/Churn/data/Telco_customer_churn.xlsx'"
     ]
    }
   ],
   "source": [
    "csv_file = os.path.join(DATA_PATH, 'Telco_customer_churn.xlsx')\n",
    "train_df = pd.read_excel(csv_file)\n",
    "train_df.head()"
   ]
  },
  {
   "cell_type": "markdown",
   "metadata": {
    "id": "aBHvRKyxgrae"
   },
   "source": [
    "#Data preprocessing"
   ]
  },
  {
   "cell_type": "code",
   "execution_count": null,
   "metadata": {
    "colab": {
     "base_uri": "https://localhost:8080/"
    },
    "id": "FlQ-IfHs0NYf",
    "outputId": "93c4a3c1-12d0-446e-e810-91c233207576"
   },
   "outputs": [
    {
     "data": {
      "text/plain": [
       "CustomerID              0\n",
       "Count                   0\n",
       "Country                 0\n",
       "State                   0\n",
       "City                    0\n",
       "Zip Code                0\n",
       "Lat Long                0\n",
       "Latitude                0\n",
       "Longitude               0\n",
       "Gender                  0\n",
       "Senior Citizen          0\n",
       "Partner                 0\n",
       "Dependents              0\n",
       "Tenure Months           0\n",
       "Phone Service           0\n",
       "Multiple Lines          0\n",
       "Internet Service        0\n",
       "Online Security         0\n",
       "Online Backup           0\n",
       "Device Protection       0\n",
       "Tech Support            0\n",
       "Streaming TV            0\n",
       "Streaming Movies        0\n",
       "Contract                0\n",
       "Paperless Billing       0\n",
       "Payment Method          0\n",
       "Monthly Charges         0\n",
       "Total Charges           0\n",
       "Churn Label             0\n",
       "Churn Value             0\n",
       "Churn Score             0\n",
       "CLTV                    0\n",
       "Churn Reason         5174\n",
       "dtype: int64"
      ]
     },
     "execution_count": 31,
     "metadata": {
      "tags": []
     },
     "output_type": "execute_result"
    }
   ],
   "source": [
    "train_df.isnull().sum()"
   ]
  },
  {
   "cell_type": "code",
   "execution_count": null,
   "metadata": {
    "colab": {
     "base_uri": "https://localhost:8080/"
    },
    "id": "Bl4AkdCypGzB",
    "outputId": "6ada6dc4-5014-4f4d-cfae-1971e408ef9a"
   },
   "outputs": [
    {
     "name": "stdout",
     "output_type": "stream",
     "text": [
      "<class 'pandas.core.frame.DataFrame'>\n",
      "RangeIndex: 7043 entries, 0 to 7042\n",
      "Data columns (total 33 columns):\n",
      " #   Column             Non-Null Count  Dtype  \n",
      "---  ------             --------------  -----  \n",
      " 0   CustomerID         7043 non-null   object \n",
      " 1   Count              7043 non-null   int64  \n",
      " 2   Country            7043 non-null   object \n",
      " 3   State              7043 non-null   object \n",
      " 4   City               7043 non-null   object \n",
      " 5   Zip Code           7043 non-null   int64  \n",
      " 6   Lat Long           7043 non-null   object \n",
      " 7   Latitude           7043 non-null   float64\n",
      " 8   Longitude          7043 non-null   float64\n",
      " 9   Gender             7043 non-null   object \n",
      " 10  Senior Citizen     7043 non-null   object \n",
      " 11  Partner            7043 non-null   object \n",
      " 12  Dependents         7043 non-null   object \n",
      " 13  Tenure Months      7043 non-null   int64  \n",
      " 14  Phone Service      7043 non-null   object \n",
      " 15  Multiple Lines     7043 non-null   object \n",
      " 16  Internet Service   7043 non-null   object \n",
      " 17  Online Security    7043 non-null   object \n",
      " 18  Online Backup      7043 non-null   object \n",
      " 19  Device Protection  7043 non-null   object \n",
      " 20  Tech Support       7043 non-null   object \n",
      " 21  Streaming TV       7043 non-null   object \n",
      " 22  Streaming Movies   7043 non-null   object \n",
      " 23  Contract           7043 non-null   object \n",
      " 24  Paperless Billing  7043 non-null   object \n",
      " 25  Payment Method     7043 non-null   object \n",
      " 26  Monthly Charges    7043 non-null   float64\n",
      " 27  Total Charges      7043 non-null   object \n",
      " 28  Churn Label        7043 non-null   object \n",
      " 29  Churn Value        7043 non-null   int64  \n",
      " 30  Churn Score        7043 non-null   int64  \n",
      " 31  CLTV               7043 non-null   int64  \n",
      " 32  Churn Reason       1869 non-null   object \n",
      "dtypes: float64(3), int64(6), object(24)\n",
      "memory usage: 1.8+ MB\n"
     ]
    }
   ],
   "source": [
    "train_df.info()"
   ]
  },
  {
   "cell_type": "code",
   "execution_count": null,
   "metadata": {
    "colab": {
     "base_uri": "https://localhost:8080/",
     "height": 297
    },
    "id": "Ss88lvnlowQ9",
    "outputId": "5b8508a9-66f3-4f87-c66c-296c2b4a3659"
   },
   "outputs": [
    {
     "data": {
      "text/html": [
       "<div>\n",
       "<style scoped>\n",
       "    .dataframe tbody tr th:only-of-type {\n",
       "        vertical-align: middle;\n",
       "    }\n",
       "\n",
       "    .dataframe tbody tr th {\n",
       "        vertical-align: top;\n",
       "    }\n",
       "\n",
       "    .dataframe thead th {\n",
       "        text-align: right;\n",
       "    }\n",
       "</style>\n",
       "<table border=\"1\" class=\"dataframe\">\n",
       "  <thead>\n",
       "    <tr style=\"text-align: right;\">\n",
       "      <th></th>\n",
       "      <th>Count</th>\n",
       "      <th>Zip Code</th>\n",
       "      <th>Latitude</th>\n",
       "      <th>Longitude</th>\n",
       "      <th>Tenure Months</th>\n",
       "      <th>Monthly Charges</th>\n",
       "      <th>Churn Value</th>\n",
       "      <th>Churn Score</th>\n",
       "      <th>CLTV</th>\n",
       "    </tr>\n",
       "  </thead>\n",
       "  <tbody>\n",
       "    <tr>\n",
       "      <th>count</th>\n",
       "      <td>7043.0</td>\n",
       "      <td>7043.000000</td>\n",
       "      <td>7043.000000</td>\n",
       "      <td>7043.000000</td>\n",
       "      <td>7043.000000</td>\n",
       "      <td>7043.000000</td>\n",
       "      <td>7043.000000</td>\n",
       "      <td>7043.000000</td>\n",
       "      <td>7043.000000</td>\n",
       "    </tr>\n",
       "    <tr>\n",
       "      <th>mean</th>\n",
       "      <td>1.0</td>\n",
       "      <td>93521.964646</td>\n",
       "      <td>36.282441</td>\n",
       "      <td>-119.798880</td>\n",
       "      <td>32.371149</td>\n",
       "      <td>64.761692</td>\n",
       "      <td>0.265370</td>\n",
       "      <td>58.699418</td>\n",
       "      <td>4400.295755</td>\n",
       "    </tr>\n",
       "    <tr>\n",
       "      <th>std</th>\n",
       "      <td>0.0</td>\n",
       "      <td>1865.794555</td>\n",
       "      <td>2.455723</td>\n",
       "      <td>2.157889</td>\n",
       "      <td>24.559481</td>\n",
       "      <td>30.090047</td>\n",
       "      <td>0.441561</td>\n",
       "      <td>21.525131</td>\n",
       "      <td>1183.057152</td>\n",
       "    </tr>\n",
       "    <tr>\n",
       "      <th>min</th>\n",
       "      <td>1.0</td>\n",
       "      <td>90001.000000</td>\n",
       "      <td>32.555828</td>\n",
       "      <td>-124.301372</td>\n",
       "      <td>0.000000</td>\n",
       "      <td>18.250000</td>\n",
       "      <td>0.000000</td>\n",
       "      <td>5.000000</td>\n",
       "      <td>2003.000000</td>\n",
       "    </tr>\n",
       "    <tr>\n",
       "      <th>25%</th>\n",
       "      <td>1.0</td>\n",
       "      <td>92102.000000</td>\n",
       "      <td>34.030915</td>\n",
       "      <td>-121.815412</td>\n",
       "      <td>9.000000</td>\n",
       "      <td>35.500000</td>\n",
       "      <td>0.000000</td>\n",
       "      <td>40.000000</td>\n",
       "      <td>3469.000000</td>\n",
       "    </tr>\n",
       "    <tr>\n",
       "      <th>50%</th>\n",
       "      <td>1.0</td>\n",
       "      <td>93552.000000</td>\n",
       "      <td>36.391777</td>\n",
       "      <td>-119.730885</td>\n",
       "      <td>29.000000</td>\n",
       "      <td>70.350000</td>\n",
       "      <td>0.000000</td>\n",
       "      <td>61.000000</td>\n",
       "      <td>4527.000000</td>\n",
       "    </tr>\n",
       "    <tr>\n",
       "      <th>75%</th>\n",
       "      <td>1.0</td>\n",
       "      <td>95351.000000</td>\n",
       "      <td>38.224869</td>\n",
       "      <td>-118.043237</td>\n",
       "      <td>55.000000</td>\n",
       "      <td>89.850000</td>\n",
       "      <td>1.000000</td>\n",
       "      <td>75.000000</td>\n",
       "      <td>5380.500000</td>\n",
       "    </tr>\n",
       "    <tr>\n",
       "      <th>max</th>\n",
       "      <td>1.0</td>\n",
       "      <td>96161.000000</td>\n",
       "      <td>41.962127</td>\n",
       "      <td>-114.192901</td>\n",
       "      <td>72.000000</td>\n",
       "      <td>118.750000</td>\n",
       "      <td>1.000000</td>\n",
       "      <td>100.000000</td>\n",
       "      <td>6500.000000</td>\n",
       "    </tr>\n",
       "  </tbody>\n",
       "</table>\n",
       "</div>"
      ],
      "text/plain": [
       "        Count      Zip Code     Latitude  ...  Churn Value  Churn Score         CLTV\n",
       "count  7043.0   7043.000000  7043.000000  ...  7043.000000  7043.000000  7043.000000\n",
       "mean      1.0  93521.964646    36.282441  ...     0.265370    58.699418  4400.295755\n",
       "std       0.0   1865.794555     2.455723  ...     0.441561    21.525131  1183.057152\n",
       "min       1.0  90001.000000    32.555828  ...     0.000000     5.000000  2003.000000\n",
       "25%       1.0  92102.000000    34.030915  ...     0.000000    40.000000  3469.000000\n",
       "50%       1.0  93552.000000    36.391777  ...     0.000000    61.000000  4527.000000\n",
       "75%       1.0  95351.000000    38.224869  ...     1.000000    75.000000  5380.500000\n",
       "max       1.0  96161.000000    41.962127  ...     1.000000   100.000000  6500.000000\n",
       "\n",
       "[8 rows x 9 columns]"
      ]
     },
     "execution_count": 33,
     "metadata": {
      "tags": []
     },
     "output_type": "execute_result"
    }
   ],
   "source": [
    "train_df.describe()"
   ]
  },
  {
   "cell_type": "code",
   "execution_count": null,
   "metadata": {
    "colab": {
     "base_uri": "https://localhost:8080/",
     "height": 334
    },
    "id": "I0a0XigOubYn",
    "outputId": "88efcc79-2399-4c64-95b9-044457ff9545"
   },
   "outputs": [
    {
     "data": {
      "image/png": "[encoded data removed]",
      "text/plain": [
       "<Figure size 360x360 with 1 Axes>"
      ]
     },
     "metadata": {
      "needs_background": "light",
      "tags": []
     },
     "output_type": "display_data"
    }
   ],
   "source": [
    "plt.figure(figsize=(5, 5))\n",
    "ax = sns.countplot(x=train_df['Churn Label'], linewidth=1)\n",
    "plt.show()"
   ]
  },
  {
   "cell_type": "code",
   "execution_count": null,
   "metadata": {
    "id": "OCidSX91iZRC"
   },
   "outputs": [],
   "source": [
    "col_list = ['CustomerID', 'Count', 'Country', 'State', 'City',\n",
    "       'Lat Long', 'Churn Label', 'Churn Score',\n",
    "       'CLTV', 'Churn Reason']"
   ]
  },
  {
   "cell_type": "code",
   "execution_count": null,
   "metadata": {
    "id": "Gyw45dQj05bn"
   },
   "outputs": [],
   "source": [
    "customer_ids = train_df[\"CustomerID\"].values\n",
    "cities = train_df[\"City\"].values\n",
    "train_df.drop(col_list, axis=1, inplace = True)\n",
    "train_df[\"Total Charges\"] = pd.to_numeric(train_df[\"Total Charges\"], errors=\"coerce\")"
   ]
  },
  {
   "cell_type": "code",
   "execution_count": null,
   "metadata": {
    "id": "k-y-am_6nEtm"
   },
   "outputs": [],
   "source": [
    "num_cols = train_df.select_dtypes(exclude=\"object\")\n",
    "cat_cols = train_df.select_dtypes(include=\"object\")"
   ]
  },
  {
   "cell_type": "code",
   "execution_count": null,
   "metadata": {
    "colab": {
     "base_uri": "https://localhost:8080/"
    },
    "id": "3IvUyt_xnaaB",
    "outputId": "8c10f508-a9d3-49ed-c42d-ce8b18dd2341"
   },
   "outputs": [
    {
     "name": "stdout",
     "output_type": "stream",
     "text": [
      "Zip Code   1652\n",
      "Latitude   1652\n",
      "Longitude   1651\n",
      "Tenure Months   73\n",
      "Monthly Charges   1585\n",
      "Total Charges   6541\n",
      "Churn Value   2\n"
     ]
    }
   ],
   "source": [
    "for i in num_cols.columns:\n",
    "  print(i, \" \", len(np.unique(num_cols[i].values)))"
   ]
  },
  {
   "cell_type": "code",
   "execution_count": null,
   "metadata": {
    "colab": {
     "base_uri": "https://localhost:8080/"
    },
    "id": "t-Bv9v2noKLa",
    "outputId": "24847744-2b04-466e-fa8e-546db8a7df65"
   },
   "outputs": [
    {
     "name": "stdout",
     "output_type": "stream",
     "text": [
      "Gender   2\n",
      "Senior Citizen   2\n",
      "Partner   2\n",
      "Dependents   2\n",
      "Phone Service   2\n",
      "Multiple Lines   3\n",
      "Internet Service   3\n",
      "Online Security   3\n",
      "Online Backup   3\n",
      "Device Protection   3\n",
      "Tech Support   3\n",
      "Streaming TV   3\n",
      "Streaming Movies   3\n",
      "Contract   3\n",
      "Paperless Billing   2\n",
      "Payment Method   4\n"
     ]
    }
   ],
   "source": [
    "for i in cat_cols.columns:\n",
    "  print(i, \" \", len(np.unique(cat_cols[i].values)))"
   ]
  },
  {
   "cell_type": "code",
   "execution_count": null,
   "metadata": {
    "colab": {
     "base_uri": "https://localhost:8080/",
     "height": 1000
    },
    "id": "V-m6Epr4pU5R",
    "outputId": "7f1455d4-7c17-44ac-cadf-86c791c5ceaf"
   },
   "outputs": [
    {
     "name": "stdout",
     "output_type": "stream",
     "text": [
      "Index(['Senior Citizen', 'Partner', 'Dependents', 'Phone Service',\n",
      "       'Multiple Lines', 'Internet Service', 'Online Security',\n",
      "       'Online Backup', 'Device Protection', 'Tech Support', 'Streaming TV',\n",
      "       'Streaming Movies', 'Contract', 'Paperless Billing', 'Payment Method'],\n",
      "      dtype='object')\n"
     ]
    },
    {
     "data": {
      "image/png": "[encoded data removed]",
      "text/plain": [
       "<Figure size 4320x4320 with 18 Axes>"
      ]
     },
     "metadata": {
      "needs_background": "light",
      "tags": []
     },
     "output_type": "display_data"
    }
   ],
   "source": [
    "fig, ax=plt.subplots(3,6, figsize=(60, 60))\n",
    "index=1\n",
    "print(cat_cols.columns[1:])\n",
    "for k in cat_cols.columns[1:]:\n",
    "  i,j=index%3, index//3\n",
    "  sns.countplot(x=cat_cols[k], ax=ax[i, j])\n",
    "  index += 1\n",
    "  ax[i, j].tick_params(axis='x', labelrotation=0)\n",
    "plt.show()"
   ]
  },
  {
   "cell_type": "markdown",
   "metadata": {
    "id": "srU7wRosm5u1"
   },
   "source": [
    "The below correlation plot shows that there is strong correlation between `Tenure Months` and `Total Charges`, `Churn Value`, `Zipcode`, `Latitude` and `Longitude`.\n",
    "\n",
    "---\n",
    "\n"
   ]
  },
  {
   "cell_type": "code",
   "execution_count": null,
   "metadata": {
    "colab": {
     "base_uri": "https://localhost:8080/",
     "height": 415
    },
    "id": "HEVUGioHjUrc",
    "outputId": "08be6c72-6e27-4e17-88a3-2d71cea582da"
   },
   "outputs": [
    {
     "data": {
      "text/plain": [
       "<matplotlib.axes._subplots.AxesSubplot at 0x7f6472eb4f10>"
      ]
     },
     "execution_count": 41,
     "metadata": {
      "tags": []
     },
     "output_type": "execute_result"
    },
    {
     "data": {
      "image/png": "[encoded data removed]",
      "text/plain": [
       "<Figure size 720x360 with 2 Axes>"
      ]
     },
     "metadata": {
      "needs_background": "light",
      "tags": []
     },
     "output_type": "display_data"
    }
   ],
   "source": [
    "plt.figure(figsize=(10, 5))\n",
    "sns.heatmap(train_df.corr(), annot=True, cmap='Accent')"
   ]
  },
  {
   "cell_type": "code",
   "execution_count": null,
   "metadata": {
    "colab": {
     "base_uri": "https://localhost:8080/",
     "height": 146
    },
    "id": "lJTT3h9Eqxpw",
    "outputId": "ca048190-0685-41b4-f468-73ec726bd4a0"
   },
   "outputs": [
    {
     "ename": "SyntaxError",
     "evalue": "ignored",
     "output_type": "error",
     "traceback": [
      "\u001b[0;36m  File \u001b[0;32m\"<ipython-input-42-23c9f60145f5>\"\u001b[0;36m, line \u001b[0;32m13\u001b[0m\n\u001b[0;31m    df = pd.concat([df_remaining_features, df_rescaled_features], axis=1)''\u001b[0m\n\u001b[0m                                                                           \n^\u001b[0m\n\u001b[0;31mSyntaxError\u001b[0m\u001b[0;31m:\u001b[0m EOF while scanning triple-quoted string literal\n"
     ]
    }
   ],
   "source": [
    "'''from sklearn.preprocessing import MinMaxScaler\n",
    "\n",
    "features = ['Tenure Months', 'Monthly Charges', 'Total Charges']\n",
    "df_features = pd.DataFrame(train_df, columns=features)\n",
    "df_remaining_features = train_df.drop(columns=features)\n",
    "\n",
    "mms = MinMaxScaler()\n",
    "rescaled_features = mms.fit_transform(df_features)\n",
    "\n",
    "train_df = pd.DataFrame(rescaled_features, columns=features, index=df_remaining_features.index)\n",
    "train_df.head()\n",
    "\n",
    "df = pd.concat([df_remaining_features, df_rescaled_features], axis=1)''"
   ]
  },
  {
   "cell_type": "code",
   "execution_count": null,
   "metadata": {
    "id": "3kgf0Ka7dADF"
   },
   "outputs": [],
   "source": [
    "train_df = pd.get_dummies(train_df, drop_first=True)"
   ]
  },
  {
   "cell_type": "code",
   "execution_count": null,
   "metadata": {
    "id": "i03fr9iapIPT"
   },
   "outputs": [],
   "source": [
    "label_encoder = preprocessing.LabelEncoder()"
   ]
  },
  {
   "cell_type": "code",
   "execution_count": null,
   "metadata": {
    "colab": {
     "base_uri": "https://localhost:8080/",
     "height": 275
    },
    "id": "nVBmFPw3pd1g",
    "outputId": "daebc0aa-cbaa-416d-9fe5-eb4d579dcd4e"
   },
   "outputs": [
    {
     "data": {
      "text/html": [
       "<div>\n",
       "<style scoped>\n",
       "    .dataframe tbody tr th:only-of-type {\n",
       "        vertical-align: middle;\n",
       "    }\n",
       "\n",
       "    .dataframe tbody tr th {\n",
       "        vertical-align: top;\n",
       "    }\n",
       "\n",
       "    .dataframe thead th {\n",
       "        text-align: right;\n",
       "    }\n",
       "</style>\n",
       "<table border=\"1\" class=\"dataframe\">\n",
       "  <thead>\n",
       "    <tr style=\"text-align: right;\">\n",
       "      <th></th>\n",
       "      <th>Zip Code</th>\n",
       "      <th>Latitude</th>\n",
       "      <th>Longitude</th>\n",
       "      <th>Tenure Months</th>\n",
       "      <th>Monthly Charges</th>\n",
       "      <th>Total Charges</th>\n",
       "      <th>Churn Value</th>\n",
       "      <th>Gender_Male</th>\n",
       "      <th>Senior Citizen_Yes</th>\n",
       "      <th>Partner_Yes</th>\n",
       "      <th>Dependents_Yes</th>\n",
       "      <th>Phone Service_Yes</th>\n",
       "      <th>Multiple Lines_No phone service</th>\n",
       "      <th>Multiple Lines_Yes</th>\n",
       "      <th>Internet Service_Fiber optic</th>\n",
       "      <th>Internet Service_No</th>\n",
       "      <th>Online Security_No internet service</th>\n",
       "      <th>Online Security_Yes</th>\n",
       "      <th>Online Backup_No internet service</th>\n",
       "      <th>Online Backup_Yes</th>\n",
       "      <th>Device Protection_No internet service</th>\n",
       "      <th>Device Protection_Yes</th>\n",
       "      <th>Tech Support_No internet service</th>\n",
       "      <th>Tech Support_Yes</th>\n",
       "      <th>Streaming TV_No internet service</th>\n",
       "      <th>Streaming TV_Yes</th>\n",
       "      <th>Streaming Movies_No internet service</th>\n",
       "      <th>Streaming Movies_Yes</th>\n",
       "      <th>Contract_One year</th>\n",
       "      <th>Contract_Two year</th>\n",
       "      <th>Paperless Billing_Yes</th>\n",
       "      <th>Payment Method_Credit card (automatic)</th>\n",
       "      <th>Payment Method_Electronic check</th>\n",
       "      <th>Payment Method_Mailed check</th>\n",
       "    </tr>\n",
       "  </thead>\n",
       "  <tbody>\n",
       "    <tr>\n",
       "      <th>0</th>\n",
       "      <td>90003</td>\n",
       "      <td>33.964131</td>\n",
       "      <td>-118.272783</td>\n",
       "      <td>2</td>\n",
       "      <td>53.85</td>\n",
       "      <td>108.15</td>\n",
       "      <td>1</td>\n",
       "      <td>1</td>\n",
       "      <td>0</td>\n",
       "      <td>0</td>\n",
       "      <td>0</td>\n",
       "      <td>1</td>\n",
       "      <td>0</td>\n",
       "      <td>0</td>\n",
       "      <td>0</td>\n",
       "      <td>0</td>\n",
       "      <td>0</td>\n",
       "      <td>1</td>\n",
       "      <td>0</td>\n",
       "      <td>1</td>\n",
       "      <td>0</td>\n",
       "      <td>0</td>\n",
       "      <td>0</td>\n",
       "      <td>0</td>\n",
       "      <td>0</td>\n",
       "      <td>0</td>\n",
       "      <td>0</td>\n",
       "      <td>0</td>\n",
       "      <td>0</td>\n",
       "      <td>0</td>\n",
       "      <td>1</td>\n",
       "      <td>0</td>\n",
       "      <td>0</td>\n",
       "      <td>1</td>\n",
       "    </tr>\n",
       "    <tr>\n",
       "      <th>1</th>\n",
       "      <td>90005</td>\n",
       "      <td>34.059281</td>\n",
       "      <td>-118.307420</td>\n",
       "      <td>2</td>\n",
       "      <td>70.70</td>\n",
       "      <td>151.65</td>\n",
       "      <td>1</td>\n",
       "      <td>0</td>\n",
       "      <td>0</td>\n",
       "      <td>0</td>\n",
       "      <td>1</td>\n",
       "      <td>1</td>\n",
       "      <td>0</td>\n",
       "      <td>0</td>\n",
       "      <td>1</td>\n",
       "      <td>0</td>\n",
       "      <td>0</td>\n",
       "      <td>0</td>\n",
       "      <td>0</td>\n",
       "      <td>0</td>\n",
       "      <td>0</td>\n",
       "      <td>0</td>\n",
       "      <td>0</td>\n",
       "      <td>0</td>\n",
       "      <td>0</td>\n",
       "      <td>0</td>\n",
       "      <td>0</td>\n",
       "      <td>0</td>\n",
       "      <td>0</td>\n",
       "      <td>0</td>\n",
       "      <td>1</td>\n",
       "      <td>0</td>\n",
       "      <td>1</td>\n",
       "      <td>0</td>\n",
       "    </tr>\n",
       "    <tr>\n",
       "      <th>2</th>\n",
       "      <td>90006</td>\n",
       "      <td>34.048013</td>\n",
       "      <td>-118.293953</td>\n",
       "      <td>8</td>\n",
       "      <td>99.65</td>\n",
       "      <td>820.50</td>\n",
       "      <td>1</td>\n",
       "      <td>0</td>\n",
       "      <td>0</td>\n",
       "      <td>0</td>\n",
       "      <td>1</td>\n",
       "      <td>1</td>\n",
       "      <td>0</td>\n",
       "      <td>1</td>\n",
       "      <td>1</td>\n",
       "      <td>0</td>\n",
       "      <td>0</td>\n",
       "      <td>0</td>\n",
       "      <td>0</td>\n",
       "      <td>0</td>\n",
       "      <td>0</td>\n",
       "      <td>1</td>\n",
       "      <td>0</td>\n",
       "      <td>0</td>\n",
       "      <td>0</td>\n",
       "      <td>1</td>\n",
       "      <td>0</td>\n",
       "      <td>1</td>\n",
       "      <td>0</td>\n",
       "      <td>0</td>\n",
       "      <td>1</td>\n",
       "      <td>0</td>\n",
       "      <td>1</td>\n",
       "      <td>0</td>\n",
       "    </tr>\n",
       "    <tr>\n",
       "      <th>3</th>\n",
       "      <td>90010</td>\n",
       "      <td>34.062125</td>\n",
       "      <td>-118.315709</td>\n",
       "      <td>28</td>\n",
       "      <td>104.80</td>\n",
       "      <td>3046.05</td>\n",
       "      <td>1</td>\n",
       "      <td>0</td>\n",
       "      <td>0</td>\n",
       "      <td>1</td>\n",
       "      <td>1</td>\n",
       "      <td>1</td>\n",
       "      <td>0</td>\n",
       "      <td>1</td>\n",
       "      <td>1</td>\n",
       "      <td>0</td>\n",
       "      <td>0</td>\n",
       "      <td>0</td>\n",
       "      <td>0</td>\n",
       "      <td>0</td>\n",
       "      <td>0</td>\n",
       "      <td>1</td>\n",
       "      <td>0</td>\n",
       "      <td>1</td>\n",
       "      <td>0</td>\n",
       "      <td>1</td>\n",
       "      <td>0</td>\n",
       "      <td>1</td>\n",
       "      <td>0</td>\n",
       "      <td>0</td>\n",
       "      <td>1</td>\n",
       "      <td>0</td>\n",
       "      <td>1</td>\n",
       "      <td>0</td>\n",
       "    </tr>\n",
       "    <tr>\n",
       "      <th>4</th>\n",
       "      <td>90015</td>\n",
       "      <td>34.039224</td>\n",
       "      <td>-118.266293</td>\n",
       "      <td>49</td>\n",
       "      <td>103.70</td>\n",
       "      <td>5036.30</td>\n",
       "      <td>1</td>\n",
       "      <td>1</td>\n",
       "      <td>0</td>\n",
       "      <td>0</td>\n",
       "      <td>1</td>\n",
       "      <td>1</td>\n",
       "      <td>0</td>\n",
       "      <td>1</td>\n",
       "      <td>1</td>\n",
       "      <td>0</td>\n",
       "      <td>0</td>\n",
       "      <td>0</td>\n",
       "      <td>0</td>\n",
       "      <td>1</td>\n",
       "      <td>0</td>\n",
       "      <td>1</td>\n",
       "      <td>0</td>\n",
       "      <td>0</td>\n",
       "      <td>0</td>\n",
       "      <td>1</td>\n",
       "      <td>0</td>\n",
       "      <td>1</td>\n",
       "      <td>0</td>\n",
       "      <td>0</td>\n",
       "      <td>1</td>\n",
       "      <td>0</td>\n",
       "      <td>0</td>\n",
       "      <td>0</td>\n",
       "    </tr>\n",
       "  </tbody>\n",
       "</table>\n",
       "</div>"
      ],
      "text/plain": [
       "   Zip Code  ...  Payment Method_Mailed check\n",
       "0     90003  ...                            1\n",
       "1     90005  ...                            0\n",
       "2     90006  ...                            0\n",
       "3     90010  ...                            0\n",
       "4     90015  ...                            0\n",
       "\n",
       "[5 rows x 34 columns]"
      ]
     },
     "execution_count": 47,
     "metadata": {
      "tags": []
     },
     "output_type": "execute_result"
    }
   ],
   "source": [
    "train_df.head()"
   ]
  },
  {
   "cell_type": "code",
   "execution_count": null,
   "metadata": {
    "colab": {
     "base_uri": "https://localhost:8080/"
    },
    "id": "iSQrkLVOBAts",
    "outputId": "4c266a65-3859-4402-8273-833ac2394d3b"
   },
   "outputs": [
    {
     "name": "stdout",
     "output_type": "stream",
     "text": [
      "<class 'pandas.core.frame.DataFrame'>\n",
      "RangeIndex: 7043 entries, 0 to 7042\n",
      "Data columns (total 34 columns):\n",
      " #   Column                                  Non-Null Count  Dtype  \n",
      "---  ------                                  --------------  -----  \n",
      " 0   Zip Code                                7043 non-null   int64  \n",
      " 1   Latitude                                7043 non-null   float64\n",
      " 2   Longitude                               7043 non-null   float64\n",
      " 3   Tenure Months                           7043 non-null   int64  \n",
      " 4   Monthly Charges                         7043 non-null   float64\n",
      " 5   Total Charges                           7032 non-null   float64\n",
      " 6   Churn Value                             7043 non-null   int64  \n",
      " 7   Gender_Male                             7043 non-null   uint8  \n",
      " 8   Senior Citizen_Yes                      7043 non-null   uint8  \n",
      " 9   Partner_Yes                             7043 non-null   uint8  \n",
      " 10  Dependents_Yes                          7043 non-null   uint8  \n",
      " 11  Phone Service_Yes                       7043 non-null   uint8  \n",
      " 12  Multiple Lines_No phone service         7043 non-null   uint8  \n",
      " 13  Multiple Lines_Yes                      7043 non-null   uint8  \n",
      " 14  Internet Service_Fiber optic            7043 non-null   uint8  \n",
      " 15  Internet Service_No                     7043 non-null   uint8  \n",
      " 16  Online Security_No internet service     7043 non-null   uint8  \n",
      " 17  Online Security_Yes                     7043 non-null   uint8  \n",
      " 18  Online Backup_No internet service       7043 non-null   uint8  \n",
      " 19  Online Backup_Yes                       7043 non-null   uint8  \n",
      " 20  Device Protection_No internet service   7043 non-null   uint8  \n",
      " 21  Device Protection_Yes                   7043 non-null   uint8  \n",
      " 22  Tech Support_No internet service        7043 non-null   uint8  \n",
      " 23  Tech Support_Yes                        7043 non-null   uint8  \n",
      " 24  Streaming TV_No internet service        7043 non-null   uint8  \n",
      " 25  Streaming TV_Yes                        7043 non-null   uint8  \n",
      " 26  Streaming Movies_No internet service    7043 non-null   uint8  \n",
      " 27  Streaming Movies_Yes                    7043 non-null   uint8  \n",
      " 28  Contract_One year                       7043 non-null   uint8  \n",
      " 29  Contract_Two year                       7043 non-null   uint8  \n",
      " 30  Paperless Billing_Yes                   7043 non-null   uint8  \n",
      " 31  Payment Method_Credit card (automatic)  7043 non-null   uint8  \n",
      " 32  Payment Method_Electronic check         7043 non-null   uint8  \n",
      " 33  Payment Method_Mailed check             7043 non-null   uint8  \n",
      "dtypes: float64(4), int64(3), uint8(27)\n",
      "memory usage: 571.0 KB\n"
     ]
    }
   ],
   "source": [
    "train_df.info()"
   ]
  },
  {
   "cell_type": "code",
   "execution_count": null,
   "metadata": {
    "colab": {
     "base_uri": "https://localhost:8080/"
    },
    "id": "1DHXHWfXfiOX",
    "outputId": "183776af-7876-4dd4-fcc3-951d6baa0d3b"
   },
   "outputs": [
    {
     "name": "stdout",
     "output_type": "stream",
     "text": [
      "Zip Code                                  0\n",
      "Latitude                                  0\n",
      "Longitude                                 0\n",
      "Tenure Months                             0\n",
      "Monthly Charges                           0\n",
      "Total Charges                             0\n",
      "Churn Value                               0\n",
      "Gender_Male                               0\n",
      "Senior Citizen_Yes                        0\n",
      "Partner_Yes                               0\n",
      "Dependents_Yes                            0\n",
      "Phone Service_Yes                         0\n",
      "Multiple Lines_No phone service           0\n",
      "Multiple Lines_Yes                        0\n",
      "Internet Service_Fiber optic              0\n",
      "Internet Service_No                       0\n",
      "Online Security_No internet service       0\n",
      "Online Security_Yes                       0\n",
      "Online Backup_No internet service         0\n",
      "Online Backup_Yes                         0\n",
      "Device Protection_No internet service     0\n",
      "Device Protection_Yes                     0\n",
      "Tech Support_No internet service          0\n",
      "Tech Support_Yes                          0\n",
      "Streaming TV_No internet service          0\n",
      "Streaming TV_Yes                          0\n",
      "Streaming Movies_No internet service      0\n",
      "Streaming Movies_Yes                      0\n",
      "Contract_One year                         0\n",
      "Contract_Two year                         0\n",
      "Paperless Billing_Yes                     0\n",
      "Payment Method_Credit card (automatic)    0\n",
      "Payment Method_Electronic check           0\n",
      "Payment Method_Mailed check               0\n",
      "dtype: int64\n"
     ]
    }
   ],
   "source": [
    "train_df = train_df.dropna()\n",
    "print(train_df.isnull().sum())"
   ]
  },
  {
   "cell_type": "code",
   "execution_count": null,
   "metadata": {
    "colab": {
     "base_uri": "https://localhost:8080/"
    },
    "id": "6jiXO06D-l_Z",
    "outputId": "7c681b1c-0df3-4abc-955b-0d5e215fbf3e"
   },
   "outputs": [
    {
     "data": {
      "text/plain": [
       "(7032, 34)"
      ]
     },
     "execution_count": 50,
     "metadata": {
      "tags": []
     },
     "output_type": "execute_result"
    }
   ],
   "source": [
    "train_df.shape"
   ]
  },
  {
   "cell_type": "code",
   "execution_count": null,
   "metadata": {
    "id": "4XocTgeQA_0k"
   },
   "outputs": [],
   "source": [
    "y = train_df['Churn Value'].tolist()\n",
    "X = train_df.drop(['Churn Value'], axis=1)"
   ]
  },
  {
   "cell_type": "code",
   "execution_count": null,
   "metadata": {
    "colab": {
     "base_uri": "https://localhost:8080/"
    },
    "id": "rkXRu4EzA_oT",
    "outputId": "eec733f1-ff30-46e3-c703-90d8b9d1b462"
   },
   "outputs": [
    {
     "name": "stderr",
     "output_type": "stream",
     "text": [
      "/usr/local/lib/python3.7/dist-packages/sklearn/utils/deprecation.py:87: FutureWarning: Function safe_indexing is deprecated; safe_indexing is deprecated in version 0.22 and will be removed in version 0.24.\n",
      "  warnings.warn(msg, category=FutureWarning)\n"
     ]
    }
   ],
   "source": [
    "from imblearn.over_sampling import SMOTE\n",
    "smote = SMOTE(random_state=0)\n",
    "X_resampled, y_resampled = smote.fit_resample(X, y)"
   ]
  },
  {
   "cell_type": "code",
   "execution_count": null,
   "metadata": {
    "id": "rnCq5FdFcRKV"
   },
   "outputs": [],
   "source": [
    "# train_df.Churn.replace(to_replace = dict(Yes=1, No=0),inplace=True)"
   ]
  },
  {
   "cell_type": "code",
   "execution_count": null,
   "metadata": {
    "id": "RGKig5UNmczm"
   },
   "outputs": [],
   "source": [
    " from sklearn.model_selection import train_test_split\n",
    "\n",
    " X_train, X_test, y_train, y_test= train_test_split(X, y, test_size=0.2, random_state=42)\n"
   ]
  },
  {
   "cell_type": "code",
   "execution_count": null,
   "metadata": {
    "id": "QOoXMaNYmphF"
   },
   "outputs": [],
   "source": [
    "X_train_resampled, X_test_resampled, y_train_resampled, y_test_resampled = train_test_split(X_resampled, y_resampled, test_size=0.2, random_state=42)"
   ]
  },
  {
   "cell_type": "markdown",
   "metadata": {
    "id": "O_RV2fp3kj5O"
   },
   "source": [
    "# Model training"
   ]
  },
  {
   "cell_type": "code",
   "execution_count": null,
   "metadata": {
    "id": "iBI38JbfsZll"
   },
   "outputs": [],
   "source": [
    "from sklearn.metrics import accuracy_score, confusion_matrix, classification_report, roc_curve, roc_auc_score\n",
    "from sklearn.metrics import precision_recall_curve, auc, f1_score, plot_confusion_matrix, precision_score, recall_score\n",
    "from sklearn.model_selection import GridSearchCV"
   ]
  },
  {
   "cell_type": "code",
   "execution_count": null,
   "metadata": {
    "id": "lgEg4DUVsi51"
   },
   "outputs": [],
   "source": [
    "def acc_f1_auc_scores(model,y_test, y_pred, y_pred_probabilities):\n",
    "    \n",
    "    y_pred_prob = y_pred_probabilities[:,1]\n",
    "    precision, recall, thresholds = precision_recall_curve(y_test, y_pred_prob)\n",
    "    \n",
    "    acc_score_result, f1_score_result, auc_score_result = accuracy_score(y_test,y_pred), f1_score(y_test, y_pred), auc(recall, precision)\n",
    "    \n",
    "    return print(f'Model:{model} \\nAccuracy score:{acc_score_result} \\nF1 Score: {f1_score_result} \\nAUC Score (PR): {auc_score_result}\\n')"
   ]
  },
  {
   "cell_type": "code",
   "execution_count": null,
   "metadata": {
    "id": "wjJDEJkjz5Hk"
   },
   "outputs": [],
   "source": []
  },
  {
   "cell_type": "markdown",
   "metadata": {
    "id": "X0tOVqgZlVeS"
   },
   "source": [
    "## K nearest neighbour"
   ]
  },
  {
   "cell_type": "markdown",
   "metadata": {
    "id": "T10oBdQynGm4"
   },
   "source": [
    "### KNN score"
   ]
  },
  {
   "cell_type": "code",
   "execution_count": null,
   "metadata": {
    "colab": {
     "base_uri": "https://localhost:8080/"
    },
    "id": "3GmfdENHnHYs",
    "outputId": "94b02ae3-2562-4431-f896-08111bd65e0d"
   },
   "outputs": [
    {
     "name": "stdout",
     "output_type": "stream",
     "text": [
      "Model:KNN \n",
      "Accuracy score:0.7420042643923241 \n",
      "F1 Score: 0.3899159663865546 \n",
      "AUC Score (PR): 0.48860749553255783\n",
      "\n"
     ]
    }
   ],
   "source": [
    "from sklearn.neighbors import KNeighborsClassifier\n",
    "knn = KNeighborsClassifier()\n",
    "knn.fit(X_train,y_train)\n",
    "\n",
    "y_pred_knn = knn.predict(X_test)\n",
    "y_pred_knn_prob = knn.predict_proba(X_test)\n",
    "\n",
    "acc_f1_auc_scores('KNN',y_test, y_pred_knn, y_pred_knn_prob)"
   ]
  },
  {
   "cell_type": "markdown",
   "metadata": {
    "id": "u0QvBNuswZLJ"
   },
   "source": [
    "### GridsearchCV"
   ]
  },
  {
   "cell_type": "code",
   "execution_count": null,
   "metadata": {
    "colab": {
     "base_uri": "https://localhost:8080/"
    },
    "id": "aZyxdjAZxaFa",
    "outputId": "e9b7e296-e373-415a-afa1-2034826c1d9d"
   },
   "outputs": [
    {
     "name": "stdout",
     "output_type": "stream",
     "text": [
      "KNN best number of neighbors: {'n_neighbors': 6} \n",
      "\n",
      "Model:KNN_tuned \n",
      "Accuracy score:0.7469793887704336 \n",
      "F1 Score: 0.3153846153846154 \n",
      "AUC Score (PR): 0.4905727063049744\n",
      "\n"
     ]
    }
   ],
   "source": [
    "from sklearn.model_selection import GridSearchCV\n",
    "\n",
    "param_grid = {'n_neighbors': np.arange(1, 30)}\n",
    "knn = KNeighborsClassifier()\n",
    "knn_cv = GridSearchCV(knn, param_grid, cv=5)\n",
    "knn_cv.fit(X_train, y_train)\n",
    "\n",
    "# Make predictions (classes and probabilities) with the trained model on the test set.\n",
    "y_pred_knn_tuned = knn_cv.predict(X_test)\n",
    "y_pred_knn_tuned_prob = knn_cv.predict_proba(X_test)\n",
    "\n",
    "print('KNN best number of neighbors:', knn_cv.best_params_, '\\n')\n",
    "\n",
    "acc_f1_auc_scores('KNN_tuned',y_test, y_pred_knn_tuned, y_pred_knn_tuned_prob)"
   ]
  },
  {
   "cell_type": "markdown",
   "metadata": {
    "id": "8F0EPvjju5OF"
   },
   "source": [
    "### KNN on smote"
   ]
  },
  {
   "cell_type": "code",
   "execution_count": null,
   "metadata": {
    "colab": {
     "base_uri": "https://localhost:8080/"
    },
    "id": "K6SL27tMvHQy",
    "outputId": "097f32e9-8417-4966-f129-7fd4a87ccc66"
   },
   "outputs": [
    {
     "name": "stdout",
     "output_type": "stream",
     "text": [
      "Model:KNN_resampled \n",
      "Accuracy score:0.7260406582768635 \n",
      "F1 Score: 0.7443541102077688 \n",
      "AUC Score (PR): 0.8112846007181289\n",
      "\n"
     ]
    }
   ],
   "source": [
    "knn_resampled = KNeighborsClassifier()\n",
    "knn_resampled.fit(X_train_resampled,y_train_resampled)\n",
    "\n",
    "y_pred_knn_resampled = knn_resampled.predict(X_test_resampled)\n",
    "y_pred_knn_prob_resampled = knn_resampled.predict_proba(X_test_resampled)\n",
    "acc_f1_auc_scores('KNN_resampled',y_test_resampled, y_pred_knn_resampled, y_pred_knn_prob_resampled)"
   ]
  },
  {
   "cell_type": "markdown",
   "metadata": {
    "id": "31u7BC5z0PN5"
   },
   "source": [
    "### KNN on smote and gridsearchcv\n"
   ]
  },
  {
   "cell_type": "code",
   "execution_count": null,
   "metadata": {
    "colab": {
     "base_uri": "https://localhost:8080/"
    },
    "id": "B3P9aQqvyNm_",
    "outputId": "04f43cc7-e026-4ce9-8138-62fe469f58e4"
   },
   "outputs": [
    {
     "name": "stdout",
     "output_type": "stream",
     "text": [
      "KNN best number of neighbors: {'n_neighbors': 1} \n",
      "\n",
      "Model:KNN_tunned_resampled \n",
      "Accuracy score:0.7879961277831559 \n",
      "F1 Score: 0.7970342910101946 \n",
      "AUC Score (PR): 0.8398237058832273\n",
      "\n"
     ]
    }
   ],
   "source": [
    "from sklearn.model_selection import GridSearchCV\n",
    "\n",
    "param_grid = {'n_neighbors': np.arange(1, 30)}\n",
    "knn_tunned_resampled = KNeighborsClassifier()\n",
    "knn_cv_resampled = GridSearchCV(knn_tunned_resampled, param_grid, cv=5)\n",
    "knn_cv_resampled.fit(X_train_resampled, y_train_resampled)\n",
    "\n",
    "# Make predictions (classes and probabilities) with the trained model on the test set.\n",
    "y_pred_knn_tuned_resampled = knn_cv_resampled.predict(X_test_resampled)\n",
    "y_pred_knn_tuned_prob_resampled = knn_cv_resampled.predict_proba(X_test_resampled)\n",
    "\n",
    "print('KNN best number of neighbors:', knn_cv_resampled.best_params_, '\\n')\n",
    "\n",
    "acc_f1_auc_scores('KNN_tunned_resampled',y_test_resampled, y_pred_knn_tuned_resampled, y_pred_knn_tuned_prob_resampled)"
   ]
  },
  {
   "cell_type": "code",
   "execution_count": null,
   "metadata": {
    "id": "IUAVR2hAap5f"
   },
   "outputs": [],
   "source": []
  },
  {
   "cell_type": "markdown",
   "metadata": {
    "id": "rQdb6Yw8lYcV"
   },
   "source": [
    "## Logistic regression"
   ]
  },
  {
   "cell_type": "code",
   "execution_count": null,
   "metadata": {
    "colab": {
     "base_uri": "https://localhost:8080/"
    },
    "id": "6cdePvj9lbHS",
    "outputId": "a59f26f0-ebbe-4cb0-ddec-8f7a243dde7b"
   },
   "outputs": [
    {
     "name": "stdout",
     "output_type": "stream",
     "text": [
      "Model:logreg \n",
      "Accuracy score:0.7938877043354655 \n",
      "F1 Score: 0.5524691358024691 \n",
      "AUC Score (PR): 0.6502511274525234\n",
      "\n"
     ]
    }
   ],
   "source": [
    "from sklearn.linear_model import LogisticRegression\n",
    "\n",
    "logreg = LogisticRegression(max_iter=1000)\n",
    "logreg.fit(X_train, y_train)\n",
    "y_pred_logreg = logreg.predict(X_test)\n",
    "y_pred_logreg_prob = logreg.predict_proba(X_test)\n",
    "acc_f1_auc_scores('logreg',y_test, y_pred_logreg, y_pred_logreg_prob)"
   ]
  },
  {
   "cell_type": "markdown",
   "metadata": {
    "id": "gnAWCVPPzLDW"
   },
   "source": [
    "GridSearchCV"
   ]
  },
  {
   "cell_type": "code",
   "execution_count": null,
   "metadata": {
    "colab": {
     "base_uri": "https://localhost:8080/"
    },
    "id": "w-E9ExmMzKeI",
    "outputId": "82a742c6-fd85-466a-ced1-c0c8ddbba092"
   },
   "outputs": [
    {
     "name": "stdout",
     "output_type": "stream",
     "text": [
      "Logistic Regression - Best Parameters:  {'C': 1.9000000000000001}\n",
      "Model:logreg \n",
      "Accuracy score:0.7938877043354655 \n",
      "F1 Score: 0.5524691358024691 \n",
      "AUC Score (PR): 0.65024755301262\n",
      "\n"
     ]
    }
   ],
   "source": [
    "param_grid_L1 = { 'C': np.arange(.1, 5, .1)}\n",
    "logreg_tuned = LogisticRegression(max_iter=1000)   \n",
    "logreg_tuned_gs = GridSearchCV(logreg_tuned, param_grid_L1, cv=5)\n",
    "logreg_tuned_gs.fit(X_train, y_train)\n",
    "\n",
    "# Make predictions (classes and probabilities) with the trained model on the test set.\n",
    "y_pred_logreg_tuned = logreg_tuned_gs.predict(X_test)\n",
    "y_pred_logreg_tuned_prob = logreg_tuned_gs.predict_proba(X_test)\n",
    "\n",
    "print('Logistic Regression - Best Parameters: ', logreg_tuned_gs.best_params_)\n",
    "acc_f1_auc_scores('logreg',y_test, y_pred_logreg_tuned, y_pred_logreg_tuned_prob)"
   ]
  },
  {
   "cell_type": "markdown",
   "metadata": {
    "id": "1FsVvEnOzs7E"
   },
   "source": [
    "Logreg on smote data\n"
   ]
  },
  {
   "cell_type": "code",
   "execution_count": null,
   "metadata": {
    "colab": {
     "base_uri": "https://localhost:8080/"
    },
    "id": "CmExRLENzw1j",
    "outputId": "be3a6704-d19e-4abb-d079-6ae08095261f"
   },
   "outputs": [
    {
     "name": "stdout",
     "output_type": "stream",
     "text": [
      "Model:logreg_resampled \n",
      "Accuracy score:0.7279767666989352 \n",
      "F1 Score: 0.7253176930596286 \n",
      "AUC Score (PR): 0.7932783445289842\n",
      "\n"
     ]
    }
   ],
   "source": [
    "logreg_resampled = LogisticRegression(max_iter=1000)\n",
    "logreg_resampled.fit(X_train_resampled,y_train_resampled)\n",
    "\n",
    "y_pred_logreg_resampled = logreg_resampled.predict(X_test_resampled)\n",
    "y_pred_logreg_prob_resampled = logreg_resampled.predict_proba(X_test_resampled)\n",
    "acc_f1_auc_scores('logreg_resampled',y_test_resampled, y_pred_logreg_resampled, y_pred_logreg_prob_resampled)"
   ]
  },
  {
   "cell_type": "markdown",
   "metadata": {
    "id": "Z9p4MqS20fY-"
   },
   "source": [
    "log reg on smote data and gridsearchcv"
   ]
  },
  {
   "cell_type": "code",
   "execution_count": null,
   "metadata": {
    "colab": {
     "base_uri": "https://localhost:8080/"
    },
    "id": "GhqzZBxq0gDI",
    "outputId": "cf1007ec-b976-44ac-c957-06467d9965cf"
   },
   "outputs": [
    {
     "name": "stdout",
     "output_type": "stream",
     "text": [
      "logreg best number of neighbors: {'C': 0.30000000000000004} \n",
      "\n",
      "Model:logreg_tunned_resampled \n",
      "Accuracy score:0.7279767666989352 \n",
      "F1 Score: 0.7253176930596286 \n",
      "AUC Score (PR): 0.7932783445289842\n",
      "\n"
     ]
    }
   ],
   "source": [
    "from sklearn.model_selection import GridSearchCV\n",
    "\n",
    "param_grid_L1 = {'C': np.arange(.1, 5, .1)}\n",
    "logreg_tunned_resampled = LogisticRegression(max_iter=1000) \n",
    "logreg_cv_resampled = GridSearchCV(logreg_tunned_resampled, param_grid_L1, cv=5)\n",
    "logreg_cv_resampled.fit(X_train_resampled, y_train_resampled)\n",
    "\n",
    "# Make predictions (classes and probabilities) with the trained model on the test set.\n",
    "y_pred_logreg_tuned_resampled = logreg_cv_resampled.predict(X_test_resampled)\n",
    "y_pred_logreg_tuned_prob_resampled = logreg_cv_resampled.predict_proba(X_test_resampled)\n",
    "\n",
    "print('logreg best number of neighbors:', logreg_cv_resampled.best_params_, '\\n')\n",
    "\n",
    "acc_f1_auc_scores('logreg_tunned_resampled',y_test_resampled, y_pred_logreg_tuned_resampled, y_pred_logreg_tuned_prob_resampled)"
   ]
  },
  {
   "cell_type": "markdown",
   "metadata": {
    "id": "EzaovwnAlbfJ"
   },
   "source": [
    "## Support vector machine"
   ]
  },
  {
   "cell_type": "code",
   "execution_count": null,
   "metadata": {
    "colab": {
     "base_uri": "https://localhost:8080/"
    },
    "id": "B4wWXFvXle5G",
    "outputId": "2b7c5abf-dd71-48e3-8676-8fa9ead277bb"
   },
   "outputs": [
    {
     "name": "stdout",
     "output_type": "stream",
     "text": [
      "Model:svc \n",
      "Accuracy score:0.7192608386638237 \n",
      "F1 Score: 0.0 \n",
      "AUC Score (PR): 0.2720010486142807\n",
      "\n"
     ]
    }
   ],
   "source": [
    "from sklearn.svm import SVC\n",
    "svc = SVC(kernel = 'rbf',probability=True) \n",
    "svc.fit(X_train,y_train)\n",
    "y_pred_svc = svc.predict(X_test)\n",
    "y_pred_svc_prob = svc.predict_proba(X_test)\n",
    "acc_f1_auc_scores('svc',y_test, y_pred_svc, y_pred_svc_prob)"
   ]
  },
  {
   "cell_type": "markdown",
   "metadata": {
    "id": "NCkfWLGL3QzT"
   },
   "source": [
    "GridSearchCV"
   ]
  },
  {
   "cell_type": "code",
   "execution_count": null,
   "metadata": {
    "colab": {
     "base_uri": "https://localhost:8080/",
     "height": 374
    },
    "id": "EveRkAuW3Qzw",
    "outputId": "e34fe6c9-02d3-4370-d2b1-e17f494a0a98"
   },
   "outputs": [
    {
     "ename": "KeyboardInterrupt",
     "evalue": "ignored",
     "output_type": "error",
     "traceback": [
      "\u001b[0;31m---------------------------------------------------------------------------\u001b[0m",
      "\u001b[0;31mKeyboardInterrupt\u001b[0m                         Traceback (most recent call last)",
      "\u001b[0;32m<ipython-input-39-c20e7540552c>\u001b[0m in \u001b[0;36m<module>\u001b[0;34m()\u001b[0m\n\u001b[1;32m      2\u001b[0m \u001b[0msvc_tunned\u001b[0m \u001b[0;34m=\u001b[0m \u001b[0mSVC\u001b[0m\u001b[0;34m(\u001b[0m\u001b[0mkernel\u001b[0m\u001b[0;34m=\u001b[0m\u001b[0;34m'linear'\u001b[0m\u001b[0;34m,\u001b[0m \u001b[0mprobability\u001b[0m\u001b[0;34m=\u001b[0m\u001b[0;32mTrue\u001b[0m\u001b[0;34m)\u001b[0m\u001b[0;34m\u001b[0m\u001b[0;34m\u001b[0m\u001b[0m\n\u001b[1;32m      3\u001b[0m \u001b[0msvc_cv\u001b[0m \u001b[0;34m=\u001b[0m \u001b[0mGridSearchCV\u001b[0m\u001b[0;34m(\u001b[0m\u001b[0msvc_tunned\u001b[0m\u001b[0;34m,\u001b[0m \u001b[0mparam_grid_svm\u001b[0m\u001b[0;34m,\u001b[0m \u001b[0mcv\u001b[0m\u001b[0;34m=\u001b[0m\u001b[0;36m5\u001b[0m\u001b[0;34m,\u001b[0m\u001b[0mn_jobs\u001b[0m\u001b[0;34m=\u001b[0m\u001b[0;34m-\u001b[0m\u001b[0;36m1\u001b[0m\u001b[0;34m)\u001b[0m\u001b[0;34m\u001b[0m\u001b[0;34m\u001b[0m\u001b[0m\n\u001b[0;32m----> 4\u001b[0;31m \u001b[0msvc_cv\u001b[0m\u001b[0;34m.\u001b[0m\u001b[0mfit\u001b[0m\u001b[0;34m(\u001b[0m\u001b[0mX_train\u001b[0m\u001b[0;34m,\u001b[0m \u001b[0my_train\u001b[0m\u001b[0;34m)\u001b[0m\u001b[0;34m\u001b[0m\u001b[0;34m\u001b[0m\u001b[0m\n\u001b[0m\u001b[1;32m      5\u001b[0m \u001b[0;34m\u001b[0m\u001b[0m\n\u001b[1;32m      6\u001b[0m \u001b[0;31m# Make predictions (classes and probabilities) with the trained model on the test set.\u001b[0m\u001b[0;34m\u001b[0m\u001b[0;34m\u001b[0m\u001b[0;34m\u001b[0m\u001b[0m\n",
      "\u001b[0;32m/usr/local/lib/python3.7/dist-packages/sklearn/model_selection/_search.py\u001b[0m in \u001b[0;36mfit\u001b[0;34m(self, X, y, groups, **fit_params)\u001b[0m\n\u001b[1;32m    708\u001b[0m                 \u001b[0;32mreturn\u001b[0m \u001b[0mresults\u001b[0m\u001b[0;34m\u001b[0m\u001b[0;34m\u001b[0m\u001b[0m\n\u001b[1;32m    709\u001b[0m \u001b[0;34m\u001b[0m\u001b[0m\n\u001b[0;32m--> 710\u001b[0;31m             \u001b[0mself\u001b[0m\u001b[0;34m.\u001b[0m\u001b[0m_run_search\u001b[0m\u001b[0;34m(\u001b[0m\u001b[0mevaluate_candidates\u001b[0m\u001b[0;34m)\u001b[0m\u001b[0;34m\u001b[0m\u001b[0;34m\u001b[0m\u001b[0m\n\u001b[0m\u001b[1;32m    711\u001b[0m \u001b[0;34m\u001b[0m\u001b[0m\n\u001b[1;32m    712\u001b[0m         \u001b[0;31m# For multi-metric evaluation, store the best_index_, best_params_ and\u001b[0m\u001b[0;34m\u001b[0m\u001b[0;34m\u001b[0m\u001b[0;34m\u001b[0m\u001b[0m\n",
      "\u001b[0;32m/usr/local/lib/python3.7/dist-packages/sklearn/model_selection/_search.py\u001b[0m in \u001b[0;36m_run_search\u001b[0;34m(self, evaluate_candidates)\u001b[0m\n\u001b[1;32m   1149\u001b[0m     \u001b[0;32mdef\u001b[0m \u001b[0m_run_search\u001b[0m\u001b[0;34m(\u001b[0m\u001b[0mself\u001b[0m\u001b[0;34m,\u001b[0m \u001b[0mevaluate_candidates\u001b[0m\u001b[0;34m)\u001b[0m\u001b[0;34m:\u001b[0m\u001b[0;34m\u001b[0m\u001b[0;34m\u001b[0m\u001b[0m\n\u001b[1;32m   1150\u001b[0m         \u001b[0;34m\"\"\"Search all candidates in param_grid\"\"\"\u001b[0m\u001b[0;34m\u001b[0m\u001b[0;34m\u001b[0m\u001b[0m\n\u001b[0;32m-> 1151\u001b[0;31m         \u001b[0mevaluate_candidates\u001b[0m\u001b[0;34m(\u001b[0m\u001b[0mParameterGrid\u001b[0m\u001b[0;34m(\u001b[0m\u001b[0mself\u001b[0m\u001b[0;34m.\u001b[0m\u001b[0mparam_grid\u001b[0m\u001b[0;34m)\u001b[0m\u001b[0;34m)\u001b[0m\u001b[0;34m\u001b[0m\u001b[0;34m\u001b[0m\u001b[0m\n\u001b[0m\u001b[1;32m   1152\u001b[0m \u001b[0;34m\u001b[0m\u001b[0m\n\u001b[1;32m   1153\u001b[0m \u001b[0;34m\u001b[0m\u001b[0m\n",
      "\u001b[0;32m/usr/local/lib/python3.7/dist-packages/sklearn/model_selection/_search.py\u001b[0m in \u001b[0;36mevaluate_candidates\u001b[0;34m(candidate_params)\u001b[0m\n\u001b[1;32m    687\u001b[0m                                \u001b[0;32mfor\u001b[0m \u001b[0mparameters\u001b[0m\u001b[0;34m,\u001b[0m \u001b[0;34m(\u001b[0m\u001b[0mtrain\u001b[0m\u001b[0;34m,\u001b[0m \u001b[0mtest\u001b[0m\u001b[0;34m)\u001b[0m\u001b[0;34m\u001b[0m\u001b[0;34m\u001b[0m\u001b[0m\n\u001b[1;32m    688\u001b[0m                                in product(candidate_params,\n\u001b[0;32m--> 689\u001b[0;31m                                           cv.split(X, y, groups)))\n\u001b[0m\u001b[1;32m    690\u001b[0m \u001b[0;34m\u001b[0m\u001b[0m\n\u001b[1;32m    691\u001b[0m                 \u001b[0;32mif\u001b[0m \u001b[0mlen\u001b[0m\u001b[0;34m(\u001b[0m\u001b[0mout\u001b[0m\u001b[0;34m)\u001b[0m \u001b[0;34m<\u001b[0m \u001b[0;36m1\u001b[0m\u001b[0;34m:\u001b[0m\u001b[0;34m\u001b[0m\u001b[0;34m\u001b[0m\u001b[0m\n",
      "\u001b[0;32m/usr/local/lib/python3.7/dist-packages/joblib/parallel.py\u001b[0m in \u001b[0;36m__call__\u001b[0;34m(self, iterable)\u001b[0m\n\u001b[1;32m   1052\u001b[0m \u001b[0;34m\u001b[0m\u001b[0m\n\u001b[1;32m   1053\u001b[0m             \u001b[0;32mwith\u001b[0m \u001b[0mself\u001b[0m\u001b[0;34m.\u001b[0m\u001b[0m_backend\u001b[0m\u001b[0;34m.\u001b[0m\u001b[0mretrieval_context\u001b[0m\u001b[0;34m(\u001b[0m\u001b[0;34m)\u001b[0m\u001b[0;34m:\u001b[0m\u001b[0;34m\u001b[0m\u001b[0;34m\u001b[0m\u001b[0m\n\u001b[0;32m-> 1054\u001b[0;31m                 \u001b[0mself\u001b[0m\u001b[0;34m.\u001b[0m\u001b[0mretrieve\u001b[0m\u001b[0;34m(\u001b[0m\u001b[0;34m)\u001b[0m\u001b[0;34m\u001b[0m\u001b[0;34m\u001b[0m\u001b[0m\n\u001b[0m\u001b[1;32m   1055\u001b[0m             \u001b[0;31m# Make sure that we get a last message telling us we are done\u001b[0m\u001b[0;34m\u001b[0m\u001b[0;34m\u001b[0m\u001b[0;34m\u001b[0m\u001b[0m\n\u001b[1;32m   1056\u001b[0m             \u001b[0melapsed_time\u001b[0m \u001b[0;34m=\u001b[0m \u001b[0mtime\u001b[0m\u001b[0;34m.\u001b[0m\u001b[0mtime\u001b[0m\u001b[0;34m(\u001b[0m\u001b[0;34m)\u001b[0m \u001b[0;34m-\u001b[0m \u001b[0mself\u001b[0m\u001b[0;34m.\u001b[0m\u001b[0m_start_time\u001b[0m\u001b[0;34m\u001b[0m\u001b[0;34m\u001b[0m\u001b[0m\n",
      "\u001b[0;32m/usr/local/lib/python3.7/dist-packages/joblib/parallel.py\u001b[0m in \u001b[0;36mretrieve\u001b[0;34m(self)\u001b[0m\n\u001b[1;32m    931\u001b[0m             \u001b[0;32mtry\u001b[0m\u001b[0;34m:\u001b[0m\u001b[0;34m\u001b[0m\u001b[0;34m\u001b[0m\u001b[0m\n\u001b[1;32m    932\u001b[0m                 \u001b[0;32mif\u001b[0m \u001b[0mgetattr\u001b[0m\u001b[0;34m(\u001b[0m\u001b[0mself\u001b[0m\u001b[0;34m.\u001b[0m\u001b[0m_backend\u001b[0m\u001b[0;34m,\u001b[0m \u001b[0;34m'supports_timeout'\u001b[0m\u001b[0;34m,\u001b[0m \u001b[0;32mFalse\u001b[0m\u001b[0;34m)\u001b[0m\u001b[0;34m:\u001b[0m\u001b[0;34m\u001b[0m\u001b[0;34m\u001b[0m\u001b[0m\n\u001b[0;32m--> 933\u001b[0;31m                     \u001b[0mself\u001b[0m\u001b[0;34m.\u001b[0m\u001b[0m_output\u001b[0m\u001b[0;34m.\u001b[0m\u001b[0mextend\u001b[0m\u001b[0;34m(\u001b[0m\u001b[0mjob\u001b[0m\u001b[0;34m.\u001b[0m\u001b[0mget\u001b[0m\u001b[0;34m(\u001b[0m\u001b[0mtimeout\u001b[0m\u001b[0;34m=\u001b[0m\u001b[0mself\u001b[0m\u001b[0;34m.\u001b[0m\u001b[0mtimeout\u001b[0m\u001b[0;34m)\u001b[0m\u001b[0;34m)\u001b[0m\u001b[0;34m\u001b[0m\u001b[0;34m\u001b[0m\u001b[0m\n\u001b[0m\u001b[1;32m    934\u001b[0m                 \u001b[0;32melse\u001b[0m\u001b[0;34m:\u001b[0m\u001b[0;34m\u001b[0m\u001b[0;34m\u001b[0m\u001b[0m\n\u001b[1;32m    935\u001b[0m                     \u001b[0mself\u001b[0m\u001b[0;34m.\u001b[0m\u001b[0m_output\u001b[0m\u001b[0;34m.\u001b[0m\u001b[0mextend\u001b[0m\u001b[0;34m(\u001b[0m\u001b[0mjob\u001b[0m\u001b[0;34m.\u001b[0m\u001b[0mget\u001b[0m\u001b[0;34m(\u001b[0m\u001b[0;34m)\u001b[0m\u001b[0;34m)\u001b[0m\u001b[0;34m\u001b[0m\u001b[0;34m\u001b[0m\u001b[0m\n",
      "\u001b[0;32m/usr/local/lib/python3.7/dist-packages/joblib/_parallel_backends.py\u001b[0m in \u001b[0;36mwrap_future_result\u001b[0;34m(future, timeout)\u001b[0m\n\u001b[1;32m    540\u001b[0m         AsyncResults.get from multiprocessing.\"\"\"\n\u001b[1;32m    541\u001b[0m         \u001b[0;32mtry\u001b[0m\u001b[0;34m:\u001b[0m\u001b[0;34m\u001b[0m\u001b[0;34m\u001b[0m\u001b[0m\n\u001b[0;32m--> 542\u001b[0;31m             \u001b[0;32mreturn\u001b[0m \u001b[0mfuture\u001b[0m\u001b[0;34m.\u001b[0m\u001b[0mresult\u001b[0m\u001b[0;34m(\u001b[0m\u001b[0mtimeout\u001b[0m\u001b[0;34m=\u001b[0m\u001b[0mtimeout\u001b[0m\u001b[0;34m)\u001b[0m\u001b[0;34m\u001b[0m\u001b[0;34m\u001b[0m\u001b[0m\n\u001b[0m\u001b[1;32m    543\u001b[0m         \u001b[0;32mexcept\u001b[0m \u001b[0mCfTimeoutError\u001b[0m \u001b[0;32mas\u001b[0m \u001b[0me\u001b[0m\u001b[0;34m:\u001b[0m\u001b[0;34m\u001b[0m\u001b[0;34m\u001b[0m\u001b[0m\n\u001b[1;32m    544\u001b[0m             \u001b[0;32mraise\u001b[0m \u001b[0mTimeoutError\u001b[0m \u001b[0;32mfrom\u001b[0m \u001b[0me\u001b[0m\u001b[0;34m\u001b[0m\u001b[0;34m\u001b[0m\u001b[0m\n",
      "\u001b[0;32m/usr/lib/python3.7/concurrent/futures/_base.py\u001b[0m in \u001b[0;36mresult\u001b[0;34m(self, timeout)\u001b[0m\n\u001b[1;32m    428\u001b[0m                 \u001b[0;32mreturn\u001b[0m \u001b[0mself\u001b[0m\u001b[0;34m.\u001b[0m\u001b[0m__get_result\u001b[0m\u001b[0;34m(\u001b[0m\u001b[0;34m)\u001b[0m\u001b[0;34m\u001b[0m\u001b[0;34m\u001b[0m\u001b[0m\n\u001b[1;32m    429\u001b[0m \u001b[0;34m\u001b[0m\u001b[0m\n\u001b[0;32m--> 430\u001b[0;31m             \u001b[0mself\u001b[0m\u001b[0;34m.\u001b[0m\u001b[0m_condition\u001b[0m\u001b[0;34m.\u001b[0m\u001b[0mwait\u001b[0m\u001b[0;34m(\u001b[0m\u001b[0mtimeout\u001b[0m\u001b[0;34m)\u001b[0m\u001b[0;34m\u001b[0m\u001b[0;34m\u001b[0m\u001b[0m\n\u001b[0m\u001b[1;32m    431\u001b[0m \u001b[0;34m\u001b[0m\u001b[0m\n\u001b[1;32m    432\u001b[0m             \u001b[0;32mif\u001b[0m \u001b[0mself\u001b[0m\u001b[0;34m.\u001b[0m\u001b[0m_state\u001b[0m \u001b[0;32min\u001b[0m \u001b[0;34m[\u001b[0m\u001b[0mCANCELLED\u001b[0m\u001b[0;34m,\u001b[0m \u001b[0mCANCELLED_AND_NOTIFIED\u001b[0m\u001b[0;34m]\u001b[0m\u001b[0;34m:\u001b[0m\u001b[0;34m\u001b[0m\u001b[0;34m\u001b[0m\u001b[0m\n",
      "\u001b[0;32m/usr/lib/python3.7/threading.py\u001b[0m in \u001b[0;36mwait\u001b[0;34m(self, timeout)\u001b[0m\n\u001b[1;32m    294\u001b[0m         \u001b[0;32mtry\u001b[0m\u001b[0;34m:\u001b[0m    \u001b[0;31m# restore state no matter what (e.g., KeyboardInterrupt)\u001b[0m\u001b[0;34m\u001b[0m\u001b[0;34m\u001b[0m\u001b[0m\n\u001b[1;32m    295\u001b[0m             \u001b[0;32mif\u001b[0m \u001b[0mtimeout\u001b[0m \u001b[0;32mis\u001b[0m \u001b[0;32mNone\u001b[0m\u001b[0;34m:\u001b[0m\u001b[0;34m\u001b[0m\u001b[0;34m\u001b[0m\u001b[0m\n\u001b[0;32m--> 296\u001b[0;31m                 \u001b[0mwaiter\u001b[0m\u001b[0;34m.\u001b[0m\u001b[0macquire\u001b[0m\u001b[0;34m(\u001b[0m\u001b[0;34m)\u001b[0m\u001b[0;34m\u001b[0m\u001b[0;34m\u001b[0m\u001b[0m\n\u001b[0m\u001b[1;32m    297\u001b[0m                 \u001b[0mgotit\u001b[0m \u001b[0;34m=\u001b[0m \u001b[0;32mTrue\u001b[0m\u001b[0;34m\u001b[0m\u001b[0;34m\u001b[0m\u001b[0m\n\u001b[1;32m    298\u001b[0m             \u001b[0;32melse\u001b[0m\u001b[0;34m:\u001b[0m\u001b[0;34m\u001b[0m\u001b[0;34m\u001b[0m\u001b[0m\n",
      "\u001b[0;31mKeyboardInterrupt\u001b[0m: "
     ]
    }
   ],
   "source": [
    "param_grid_svm = {'C': [1]}\n",
    "svc_tunned = SVC(kernel='rbf', probability=True) \n",
    "svc_cv = GridSearchCV(svc_tunned, param_grid_svm, cv=5,n_jobs=-1)\n",
    "svc_cv.fit(X_train, y_train)\n",
    "\n",
    "# Make predictions (classes and probabilities) with the trained model on the test set.\n",
    "y_pred_svc_tuned = svc_cv.predict(X_test)\n",
    "y_pred_svc_tuned_prob = svc_cv.predict_proba(X_test)\n",
    "\n",
    "print('SVC - Best Parameters: ', svc_cv.best_params_)\n",
    "acc_f1_auc_scores('svc_cv',y_test, y_pred_svc_tuned, y_pred_svc_tuned_prob)"
   ]
  },
  {
   "cell_type": "markdown",
   "metadata": {
    "id": "6Yhgd9Xc3Qzx"
   },
   "source": [
    "svc on smote data\n"
   ]
  },
  {
   "cell_type": "code",
   "execution_count": null,
   "metadata": {
    "colab": {
     "base_uri": "https://localhost:8080/"
    },
    "id": "UjvdY7x83Qzx",
    "outputId": "a240ca85-a688-4b4a-ddbe-8112a0454fbe"
   },
   "outputs": [
    {
     "name": "stdout",
     "output_type": "stream",
     "text": [
      "Model:svc_resampled \n",
      "Accuracy score:0.5871248789932236 \n",
      "F1 Score: 0.6695079426578845 \n",
      "AUC Score (PR): 0.6405061873565806\n",
      "\n"
     ]
    }
   ],
   "source": [
    "from sklearn.svm import SVC\n",
    "svc_resampled = SVC(kernel='rbf', probability=True)\n",
    "svc_resampled.fit(X_train_resampled,y_train_resampled)\n",
    "y_pred_svc_resampled = svc_resampled.predict(X_test_resampled)\n",
    "y_pred_svc_prob_resampled = svc_resampled.predict_proba(X_test_resampled)\n",
    "acc_f1_auc_scores('svc_resampled',y_test_resampled, y_pred_svc_resampled, y_pred_svc_prob_resampled)\n"
   ]
  },
  {
   "cell_type": "markdown",
   "metadata": {
    "id": "6xhByq8-3Qzy"
   },
   "source": [
    "SVC on smote data and gridsearchcv"
   ]
  },
  {
   "cell_type": "code",
   "execution_count": null,
   "metadata": {
    "colab": {
     "base_uri": "https://localhost:8080/"
    },
    "id": "7ucsPZ7U3Qzy",
    "outputId": "3da08541-b554-449b-eb58-367f2352ecc0"
   },
   "outputs": [
    {
     "name": "stdout",
     "output_type": "stream",
     "text": [
      "SVC_resampled - Best Parameters:  {'C': 10}\n",
      "Model:svc_cv_resampled \n",
      "Accuracy score:0.5876089060987415 \n",
      "F1 Score: 0.6610978520286396 \n",
      "AUC Score (PR): 0.6473084370820648\n",
      "\n"
     ]
    }
   ],
   "source": [
    "param_grid_svm = {'C': [1,10]}\n",
    "svc_tunned_resampled = SVC(kernel='rbf',probability=True) \n",
    "svc_cv_resampled = GridSearchCV(svc_tunned_resampled, param_grid_svm, cv=3,n_jobs=-1)\n",
    "svc_cv_resampled.fit(X_train_resampled, y_train_resampled)\n",
    "\n",
    "# Make predictions (classes and probabilities) with the trained model on the test set.\n",
    "y_pred_svc_tuned_resampled = svc_cv_resampled.predict(X_test_resampled)\n",
    "y_pred_svc_tuned_prob_resampled = svc_cv_resampled.predict_proba(X_test_resampled)\n",
    "\n",
    "print('SVC_resampled - Best Parameters: ', svc_cv_resampled.best_params_)\n",
    "acc_f1_auc_scores('svc_cv_resampled',y_test_resampled, y_pred_svc_tuned_resampled, y_pred_svc_tuned_prob_resampled)"
   ]
  },
  {
   "cell_type": "markdown",
   "metadata": {
    "id": "m2BQCrQ6q8zR"
   },
   "source": [
    "## Decision tree"
   ]
  },
  {
   "cell_type": "code",
   "execution_count": null,
   "metadata": {
    "colab": {
     "base_uri": "https://localhost:8080/"
    },
    "id": "lCam6ozrq_ZG",
    "outputId": "d4d181bb-f788-4301-d8ed-d63d6054f4a9"
   },
   "outputs": [
    {
     "name": "stdout",
     "output_type": "stream",
     "text": [
      "Model:decision tree \n",
      "Accuracy score:0.7562189054726368 \n",
      "F1 Score: 0.5585585585585586 \n",
      "AUC Score (PR): 0.6219701107237545\n",
      "\n"
     ]
    }
   ],
   "source": [
    "from sklearn.tree import DecisionTreeClassifier\n",
    "dt = DecisionTreeClassifier()\n",
    "dt.fit(X_train,y_train)\n",
    "\n",
    "y_pred_dt = dt.predict(X_test)\n",
    "y_pred_dt_prob = dt.predict_proba(X_test)\n",
    "\n",
    "acc_f1_auc_scores('decision tree',y_test, y_pred_dt, y_pred_dt_prob)"
   ]
  },
  {
   "cell_type": "code",
   "execution_count": null,
   "metadata": {
    "colab": {
     "base_uri": "https://localhost:8080/"
    },
    "id": "eymXfkUMDzi7",
    "outputId": "b6dba76d-4ab0-4885-ea5c-67583fe25f97"
   },
   "outputs": [
    {
     "name": "stdout",
     "output_type": "stream",
     "text": [
      "Decision tree - Best Parameters:  {'criterion': 'gini', 'max_depth': 5}\n",
      "Model:Decision tree tuned \n",
      "Accuracy score:0.7945984363894811 \n",
      "F1 Score: 0.6270967741935483 \n",
      "AUC Score (PR): 0.6835330647919895\n",
      "\n"
     ]
    }
   ],
   "source": [
    "tree_para = {'criterion':['gini','entropy'],'max_depth':[1,2,3,4,5,6,7,8,9,10]}\n",
    "dt_cv = GridSearchCV(DecisionTreeClassifier(), tree_para, cv=5, verbose=0)\n",
    "dt_cv.fit(X_train, y_train)\n",
    "\n",
    "\n",
    "# Make predictions (classes and probabilities) with the trained model on the test set.\n",
    "y_pred_dt_tuned = dt_cv.predict(X_test)\n",
    "y_pred_dt_tuned_prob = dt_cv.predict_proba(X_test)\n",
    "\n",
    "print('Decision tree - Best Parameters: ', dt_cv.best_params_)\n",
    "\n",
    "acc_f1_auc_scores('Decision tree tuned',y_test, y_pred_dt_tuned, y_pred_dt_tuned_prob )"
   ]
  },
  {
   "cell_type": "markdown",
   "metadata": {
    "id": "gyVy1Zd1FU24"
   },
   "source": [
    "SMote\n"
   ]
  },
  {
   "cell_type": "code",
   "execution_count": null,
   "metadata": {
    "colab": {
     "base_uri": "https://localhost:8080/"
    },
    "id": "XCWWqXh2FUXd",
    "outputId": "faeb4f97-6b66-4aa0-9d27-e2ae60fb1292"
   },
   "outputs": [
    {
     "name": "stdout",
     "output_type": "stream",
     "text": [
      "Model:decision tree_resampled \n",
      "Accuracy score:0.813649564375605 \n",
      "F1 Score: 0.8137397194000968 \n",
      "AUC Score (PR): 0.8594896135353685\n",
      "\n"
     ]
    }
   ],
   "source": [
    "from sklearn.tree import DecisionTreeClassifier\n",
    "dt_resampled = DecisionTreeClassifier()\n",
    "dt_resampled.fit(X_train_resampled,y_train_resampled)\n",
    "\n",
    "y_pred_dt_resampled = dt_resampled.predict(X_test_resampled)\n",
    "y_pred_dt_prob_resampled = dt_resampled.predict_proba(X_test_resampled)\n",
    "\n",
    "acc_f1_auc_scores('decision tree_resampled',y_test_resampled, y_pred_dt_resampled, y_pred_dt_prob_resampled)"
   ]
  },
  {
   "cell_type": "markdown",
   "metadata": {
    "id": "6_wxCMR8GWoQ"
   },
   "source": [
    "SMOTE + Grdisearchcv"
   ]
  },
  {
   "cell_type": "code",
   "execution_count": null,
   "metadata": {
    "colab": {
     "base_uri": "https://localhost:8080/"
    },
    "id": "vqiy351aFUAh",
    "outputId": "7664ca50-ecf0-46b1-c4b2-4609a6ffb023"
   },
   "outputs": [
    {
     "name": "stdout",
     "output_type": "stream",
     "text": [
      "Decision tree_resampled - Best Parameters:  {'criterion': 'gini', 'max_depth': 10}\n",
      "Model:Decision tree tuned_resampled \n",
      "Accuracy score:0.8422071636011617 \n",
      "F1 Score: 0.8408203125000001 \n",
      "AUC Score (PR): 0.9069451664909888\n",
      "\n"
     ]
    }
   ],
   "source": [
    "tree_para = {'criterion':['gini','entropy'],'max_depth':[1,2,3,4,5,6,7,8,9,10]}\n",
    "dt_cv_resampled = GridSearchCV(DecisionTreeClassifier(), tree_para, cv=5, verbose=0)\n",
    "dt_cv_resampled.fit(X_train_resampled, y_train_resampled)\n",
    "\n",
    "\n",
    "# Make predictions (classes and probabilities) with the trained model on the test set.\n",
    "y_pred_dt_tuned_resampled = dt_cv_resampled.predict(X_test_resampled)\n",
    "y_pred_dt_tuned_prob_resampled = dt_cv_resampled.predict_proba(X_test_resampled)\n",
    "\n",
    "print('Decision tree_resampled - Best Parameters: ', dt_cv_resampled.best_params_)\n",
    "\n",
    "acc_f1_auc_scores('Decision tree tuned_resampled',y_test_resampled, y_pred_dt_tuned_resampled, y_pred_dt_tuned_prob_resampled )"
   ]
  },
  {
   "cell_type": "code",
   "execution_count": null,
   "metadata": {
    "id": "xAMVTn-Ma_By"
   },
   "outputs": [],
   "source": []
  },
  {
   "cell_type": "markdown",
   "metadata": {
    "id": "Fo7zPKlPlfnu"
   },
   "source": [
    "## Random forest"
   ]
  },
  {
   "cell_type": "code",
   "execution_count": null,
   "metadata": {
    "colab": {
     "base_uri": "https://localhost:8080/"
    },
    "id": "F8HTZu0ylpSG",
    "outputId": "2293b34e-b524-4a4d-a2bc-b1ff49b6447d"
   },
   "outputs": [
    {
     "name": "stdout",
     "output_type": "stream",
     "text": [
      "Model:random forest \n",
      "Accuracy score:0.7960199004975125 \n",
      "F1 Score: 0.5846599131693198 \n",
      "AUC Score (PR): 0.6870502439584947\n",
      "\n"
     ]
    }
   ],
   "source": [
    "from sklearn.ensemble import RandomForestClassifier\n",
    "\n",
    "rf = RandomForestClassifier()\n",
    "rf.fit(X_train, y_train)\n",
    "\n",
    "y_pred_rf = rf.predict(X_test)\n",
    "y_pred_rf_prob = rf.predict_proba(X_test)\n",
    "\n",
    "acc_f1_auc_scores('random forest',y_test, y_pred_rf, y_pred_rf_prob)"
   ]
  },
  {
   "cell_type": "markdown",
   "metadata": {
    "id": "qChckb9m76bE"
   },
   "source": [
    "GridSearchCV"
   ]
  },
  {
   "cell_type": "code",
   "execution_count": null,
   "metadata": {
    "colab": {
     "base_uri": "https://localhost:8080/"
    },
    "id": "Fjfzsk8u76bF",
    "outputId": "b17cd05b-ba3b-41e9-a15b-48db4ec0d76b"
   },
   "outputs": [
    {
     "name": "stdout",
     "output_type": "stream",
     "text": [
      "Random Forest - Best Parameters:  {'n_estimators': 40, 'max_features': 'sqrt', 'max_depth': 30, 'criterion': 'entropy', 'bootstrap': True}\n",
      "Model:random forest tuned \n",
      "Accuracy score:0.7974413646055437 \n",
      "F1 Score: 0.5851528384279476 \n",
      "AUC Score (PR): 0.6939254434580495\n",
      "\n"
     ]
    }
   ],
   "source": [
    "\n",
    "from sklearn.model_selection import RandomizedSearchCV\n",
    "\n",
    "#Define parameter grid for RandomizedSearch and instanciate and train model.\n",
    "param_grid_rf = {'n_estimators': np.arange(10, 100, 10), \n",
    "                 'max_features': ['auto', 'sqrt'],\n",
    "                 'max_depth': np.arange(10, 100, 10),\n",
    "                 'criterion': ['gini', 'entropy'],\n",
    "                 'bootstrap': [True, False]}\n",
    "\n",
    "rf = RandomForestClassifier()\n",
    "rf_random_grid = RandomizedSearchCV(estimator=rf, param_distributions=param_grid_rf, cv=5, verbose=0)\n",
    "rf_random_grid.fit(X_train, y_train)\n",
    "\n",
    "# Make predictions (classes and probabilities) with the trained model on the test set.\n",
    "y_pred_rf_tuned = rf_random_grid.predict(X_test)\n",
    "y_pred_rf_tuned_prob = rf_random_grid.predict_proba(X_test)\n",
    "\n",
    "print('Random Forest - Best Parameters: ', rf_random_grid.best_params_)\n",
    "\n",
    "acc_f1_auc_scores('random forest tuned',y_test, y_pred_rf_tuned, y_pred_rf_tuned_prob )"
   ]
  },
  {
   "cell_type": "markdown",
   "metadata": {
    "id": "GSwewbX876bH"
   },
   "source": [
    "Random forest on smote data\n"
   ]
  },
  {
   "cell_type": "code",
   "execution_count": null,
   "metadata": {
    "colab": {
     "base_uri": "https://localhost:8080/"
    },
    "id": "ZCgU-4q676bI",
    "outputId": "f25acd9c-f8c3-4fb0-a80a-370540c01709"
   },
   "outputs": [
    {
     "name": "stdout",
     "output_type": "stream",
     "text": [
      "Model:random forest_resampled \n",
      "Accuracy score:0.8770571151984511 \n",
      "F1 Score: 0.8728728728728729 \n",
      "AUC Score (PR): 0.9563381005791181\n",
      "\n"
     ]
    }
   ],
   "source": [
    "from sklearn.ensemble import RandomForestClassifier\n",
    "\n",
    "rf_resampled = RandomForestClassifier()\n",
    "rf_resampled.fit(X_train_resampled, y_train_resampled)\n",
    "\n",
    "y_pred_rf_resampled = rf_resampled.predict(X_test_resampled)\n",
    "y_pred_rf_prob_resampled = rf_resampled.predict_proba(X_test_resampled)\n",
    "\n",
    "acc_f1_auc_scores('random forest_resampled',y_test_resampled, y_pred_rf_resampled, y_pred_rf_prob_resampled)"
   ]
  },
  {
   "cell_type": "markdown",
   "metadata": {
    "id": "aY8-jft176bJ"
   },
   "source": [
    "Random forest on smote data and gridsearchcv"
   ]
  },
  {
   "cell_type": "code",
   "execution_count": null,
   "metadata": {
    "colab": {
     "base_uri": "https://localhost:8080/"
    },
    "id": "p4ZMHeja76bJ",
    "outputId": "732cf8eb-0a25-45b8-8f81-a734751bccbb"
   },
   "outputs": [
    {
     "name": "stdout",
     "output_type": "stream",
     "text": [
      "Random Forest_resampled - Best Parameters:  {'n_estimators': 1230, 'max_features': 'auto', 'max_depth': 60, 'criterion': 'gini', 'bootstrap': True}\n",
      "Model:random forest tuned_resampled \n",
      "Accuracy score:0.8770571151984511 \n",
      "F1 Score: 0.873253493013972 \n",
      "AUC Score (PR): 0.9576687217377868\n",
      "\n"
     ]
    }
   ],
   "source": [
    "\n",
    "from sklearn.model_selection import RandomizedSearchCV\n",
    "\n",
    "#Define parameter grid for RandomizedSearch and instanciate and train model.\n",
    "param_grid_rf = {'n_estimators': np.arange(10, 2000, 10), \n",
    "                 'max_features': ['auto', 'sqrt'],\n",
    "                 'max_depth': np.arange(10, 200, 10),\n",
    "                 'criterion': ['gini', 'entropy'],\n",
    "                 'bootstrap': [True, False]}\n",
    "\n",
    "rf_resampled = RandomForestClassifier()\n",
    "rf_random_grid_resampled = RandomizedSearchCV(estimator=rf_resampled, param_distributions=param_grid_rf, cv=5, verbose=0)\n",
    "rf_random_grid_resampled.fit(X_train_resampled, y_train_resampled)\n",
    "\n",
    "# Make predictions (classes and probabilities) with the trained model on the test set.\n",
    "y_pred_rf_tuned_resampled = rf_random_grid_resampled.predict(X_test_resampled)\n",
    "y_pred_rf_tuned_prob_resampled = rf_random_grid_resampled.predict_proba(X_test_resampled)\n",
    "\n",
    "print('Random Forest_resampled - Best Parameters: ', rf_random_grid_resampled.best_params_)\n",
    "\n",
    "acc_f1_auc_scores('random forest tuned_resampled',y_test_resampled, y_pred_rf_tuned_resampled, y_pred_rf_tuned_prob_resampled )"
   ]
  },
  {
   "cell_type": "code",
   "execution_count": null,
   "metadata": {
    "id": "KRfEacr1bE0p"
   },
   "outputs": [],
   "source": []
  },
  {
   "cell_type": "markdown",
   "metadata": {
    "id": "4iYdTITklpqV"
   },
   "source": [
    "## LGBM"
   ]
  },
  {
   "cell_type": "code",
   "execution_count": null,
   "metadata": {
    "colab": {
     "base_uri": "https://localhost:8080/"
    },
    "id": "fGTE_tqblzW7",
    "outputId": "35bf6dba-b968-4247-808c-81bec3ca1bcb"
   },
   "outputs": [
    {
     "name": "stdout",
     "output_type": "stream",
     "text": [
      "Model:LGBM \n",
      "Accuracy score:0.8045486851457001 \n",
      "F1 Score: 0.6164574616457462 \n",
      "AUC Score (PR): 0.7034953420988628\n",
      "\n"
     ]
    }
   ],
   "source": [
    "from lightgbm import LGBMClassifier\n",
    "\n",
    "lgbmc = LGBMClassifier(random_state = 42)\n",
    "lgbmc.fit(X_train,y_train)\n",
    "\n",
    "y_pred_lgbmc = lgbmc.predict(X_test)\n",
    "y_pred_lgbmc_prob = lgbmc.predict_proba(X_test)\n",
    "\n",
    "acc_f1_auc_scores('LGBM',y_test, y_pred_lgbmc, y_pred_lgbmc_prob)"
   ]
  },
  {
   "cell_type": "code",
   "execution_count": null,
   "metadata": {
    "colab": {
     "base_uri": "https://localhost:8080/"
    },
    "id": "qrGtc9XnUcOA",
    "outputId": "29334c82-0d2a-41cf-8b89-2a153d4a04fe"
   },
   "outputs": [
    {
     "name": "stdout",
     "output_type": "stream",
     "text": [
      "Model:LGBM_resampled \n",
      "Accuracy score:0.8775411423039691 \n",
      "F1 Score: 0.8724155320221886 \n",
      "AUC Score (PR): 0.9566993674151051\n",
      "\n"
     ]
    }
   ],
   "source": [
    "from lightgbm import LGBMClassifier\n",
    "\n",
    "lgbmc_resampled = LGBMClassifier(random_state = 42)\n",
    "lgbmc_resampled.fit(X_train_resampled,y_train_resampled)\n",
    "\n",
    "y_pred_lgbmc_resampled = lgbmc_resampled.predict(X_test_resampled)\n",
    "y_pred_lgbmc_prob_resampled = lgbmc_resampled.predict_proba(X_test_resampled)\n",
    "\n",
    "acc_f1_auc_scores('LGBM_resampled',y_test_resampled, y_pred_lgbmc_resampled, y_pred_lgbmc_prob_resampled)"
   ]
  },
  {
   "cell_type": "code",
   "execution_count": null,
   "metadata": {
    "id": "5xepKiV-bJZM"
   },
   "outputs": [],
   "source": []
  },
  {
   "cell_type": "markdown",
   "metadata": {
    "id": "tM3_5F4llztK"
   },
   "source": [
    "## XGBoost"
   ]
  },
  {
   "cell_type": "code",
   "execution_count": null,
   "metadata": {
    "colab": {
     "base_uri": "https://localhost:8080/"
    },
    "id": "9IKQ7jrtl2gF",
    "outputId": "27bd5b56-05bd-40e6-99fd-8382832501d0"
   },
   "outputs": [
    {
     "name": "stdout",
     "output_type": "stream",
     "text": [
      "Model:XGBoost \n",
      "Accuracy score:0.8159203980099502 \n",
      "F1 Score: 0.6273381294964029 \n",
      "AUC Score (PR): 0.7276110274595132\n",
      "\n"
     ]
    }
   ],
   "source": [
    "from xgboost import XGBClassifier\n",
    "xgbc = XGBClassifier()\n",
    "xgbc.fit(X_train,y_train)\n",
    "\n",
    "y_pred_xgbc = xgbc.predict(X_test)\n",
    "y_pred_xgbc_prob = xgbc.predict_proba(X_test)\n",
    "\n",
    "acc_f1_auc_scores('XGBoost',y_test, y_pred_xgbc, y_pred_xgbc_prob)"
   ]
  },
  {
   "cell_type": "code",
   "execution_count": null,
   "metadata": {
    "colab": {
     "base_uri": "https://localhost:8080/"
    },
    "id": "lfXkPYC0Vcoc",
    "outputId": "a9fea480-865d-4905-8590-087a0a62f27b"
   },
   "outputs": [
    {
     "name": "stdout",
     "output_type": "stream",
     "text": [
      "Model:XGBoost_resampled \n",
      "Accuracy score:0.8780251694094869 \n",
      "F1 Score: 0.875 \n",
      "AUC Score (PR): 0.9580999603408737\n",
      "\n"
     ]
    }
   ],
   "source": [
    "from xgboost import XGBClassifier\n",
    "xgbc_resampled = XGBClassifier()\n",
    "xgbc_resampled.fit(X_train_resampled,y_train_resampled)\n",
    "\n",
    "y_pred_xgbc_resampled = xgbc_resampled.predict(X_test_resampled)\n",
    "y_pred_xgbc_prob_resampled = xgbc_resampled.predict_proba(X_test_resampled)\n",
    "\n",
    "acc_f1_auc_scores('XGBoost_resampled',y_test_resampled, y_pred_xgbc_resampled, y_pred_xgbc_prob_resampled)"
   ]
  },
  {
   "cell_type": "markdown",
   "metadata": {
    "id": "t4U-fiBUZ1ej"
   },
   "source": [
    "ROC Curve"
   ]
  },
  {
   "cell_type": "code",
   "execution_count": null,
   "metadata": {
    "id": "8FIigeQvZ1Ar"
   },
   "outputs": [],
   "source": [
    "y_pred_prob_knn = y_pred_knn_tuned_prob_resampled[:,1]\n",
    "fpr_knn, tpr_knn, thresholds = roc_curve(y_test_resampled, y_pred_prob_knn)\n",
    "\n",
    "y_pred_prob_svc = y_pred_svc_tuned_prob_resampled[:,1]\n",
    "fpr_svc, tpr_svc, thresholds = roc_curve(y_test_resampled, y_pred_prob_svc)\n",
    "\n",
    "y_pred_prob_logreg = y_pred_logreg_tuned_prob_resampled[:,1]\n",
    "fpr_logreg, tpr_logreg, thresholds = roc_curve(y_test_resampled, y_pred_prob_logreg)\n",
    "\n",
    "y_pred_prob_dt = y_pred_dt_tuned_prob_resampled[:,1]\n",
    "fpr_dt, tpr_dt, thresholds = roc_curve(y_test_resampled, y_pred_prob_dt)\n",
    "\n",
    "y_pred_prob_rf = y_pred_rf_tuned_prob_resampled[:,1]\n",
    "fpr_rf, tpr_rf, thresholds = roc_curve(y_test_resampled, y_pred_prob_rf)\n",
    "\n",
    "y_pred_prob_lgbmc = y_pred_lgbmc_prob_resampled[:,1]\n",
    "fpr_lgbmc, tpr_lgbmc, thresholds = roc_curve(y_test_resampled, y_pred_prob_lgbmc)\n",
    "\n",
    "y_pred_prob_xgbc = y_pred_xgbc_prob_resampled[:,1]\n",
    "fpr_xgbc, tpr_xgbc, thresholds = roc_curve(y_test_resampled, y_pred_prob_xgbc)\n"
   ]
  },
  {
   "cell_type": "code",
   "execution_count": null,
   "metadata": {
    "colab": {
     "base_uri": "https://localhost:8080/",
     "height": 295
    },
    "id": "IYPT3FwZUfaM",
    "outputId": "fdd19fec-6f7c-4ab8-f811-00a5d2005b47"
   },
   "outputs": [
    {
     "data": {
      "image/png": "[encoded data removed]",
      "text/plain": [
       "<Figure size 432x288 with 1 Axes>"
      ]
     },
     "metadata": {
      "needs_background": "light",
      "tags": []
     },
     "output_type": "display_data"
    }
   ],
   "source": [
    "plt.plot([0, 1], [0, 1], 'k--')\n",
    "\n",
    "plt.plot(fpr_knn, tpr_knn, label='KNN')\n",
    "plt.plot(fpr_logreg, tpr_logreg, label='Logistic regression')\n",
    "plt.plot(fpr_svc, tpr_svc, label='SVM')\n",
    "plt.plot(fpr_dt, tpr_dt, label='Decision Tree')\n",
    "plt.plot(fpr_rf, tpr_rf, label='Random Forest')\n",
    "plt.plot(fpr_lgbmc, tpr_lgbmc, label='LGBM')\n",
    "plt.plot(fpr_xgbc, tpr_xgbc, label='XGBoost')\n",
    "plt.plot(fpr_logreg, tpr_logreg, label='Artificial neural network')\n",
    "\n",
    "plt.legend(loc=\"lower right\", title=\"Legend Title\")\n",
    "plt.xlabel('False Positive Rate')\n",
    "plt.ylabel('True Positive Rate')\n",
    "plt.title('ROC Curve')\n",
    "plt.show()"
   ]
  },
  {
   "cell_type": "markdown",
   "metadata": {
    "id": "43Z0tM36huws"
   },
   "source": [
    "### Confusion matrix"
   ]
  },
  {
   "cell_type": "code",
   "execution_count": null,
   "metadata": {
    "id": "8wdfPYRIUfUu"
   },
   "outputs": [],
   "source": [
    "classifiers = [logreg_cv_resampled,svc_cv_resampled,dt_cv_resampled,rf_random_grid_resampled,lgbmc_resampled,xgbc_resampled]\n",
    "cls_names = [\"K nearest neighbors\", \"Logistic regression\",\"Support vector machine\", \"Decision Tree\", \"Random Forest\", \"LGBM\", \"XGBoost\"]"
   ]
  },
  {
   "cell_type": "code",
   "execution_count": null,
   "metadata": {
    "colab": {
     "base_uri": "https://localhost:8080/",
     "height": 729
    },
    "id": "zj8ivkoiUfRc",
    "outputId": "7a0f4f4d-f350-456f-9bc6-64219c415a77"
   },
   "outputs": [
    {
     "data": {
      "image/png": "[encoded data removed]",
      "text/plain": [
       "<Figure size 1080x720 with 12 Axes>"
      ]
     },
     "metadata": {
      "needs_background": "light",
      "tags": []
     },
     "output_type": "display_data"
    }
   ],
   "source": [
    "fig, axes = plt.subplots(nrows=3, ncols=2, figsize=(15,10))\n",
    "\n",
    "for cls, ax,cls_name in zip(classifiers, axes.flatten(), cls_names):\n",
    "    plot_confusion_matrix(cls, \n",
    "                          X_test_resampled,y_test_resampled, \n",
    "                          ax=ax, \n",
    "                          cmap='Blues',\n",
    "                         display_labels=[\"No Churn\", \"Churn\"],values_format=\"d\")\n",
    "    ax.title.set_text(cls_name)\n",
    "plt.tight_layout()  \n",
    "plt.show()"
   ]
  },
  {
   "cell_type": "markdown",
   "metadata": {
    "id": "CDqbj9x-8_7M"
   },
   "source": [
    "# Neural Network Using Keras"
   ]
  },
  {
   "cell_type": "code",
   "execution_count": null,
   "metadata": {
    "id": "KtgaFsEp8_j8"
   },
   "outputs": [],
   "source": [
    "from keras import models\n",
    "from keras import layers"
   ]
  },
  {
   "cell_type": "code",
   "execution_count": null,
   "metadata": {
    "id": "pP5IbKeX-Ic3"
   },
   "outputs": [],
   "source": [
    "model = models.Sequential()\n",
    "model.add(layers.Dense(64, activation='relu', input_shape=(36,)))\n",
    "model.add(layers.Dense(1, activation='sigmoid'))\n",
    "model.compile(optimizer='adam', loss='binary_crossentropy', metrics=['accuracy'])"
   ]
  },
  {
   "cell_type": "code",
   "execution_count": null,
   "metadata": {
    "colab": {
     "base_uri": "https://localhost:8080/"
    },
    "id": "aoZiJMdR_M2w",
    "outputId": "3e11f015-f5b0-427f-f6fd-6c267adadd96"
   },
   "outputs": [
    {
     "name": "stdout",
     "output_type": "stream",
     "text": [
      "Model: \"sequential\"\n",
      "_________________________________________________________________\n",
      "Layer (type)                 Output Shape              Param #   \n",
      "=================================================================\n",
      "dense (Dense)                (None, 64)                2368      \n",
      "_________________________________________________________________\n",
      "dense_1 (Dense)              (None, 1)                 65        \n",
      "=================================================================\n",
      "Total params: 2,433\n",
      "Trainable params: 2,433\n",
      "Non-trainable params: 0\n",
      "_________________________________________________________________\n"
     ]
    }
   ],
   "source": [
    "model.summary()"
   ]
  },
  {
   "cell_type": "code",
   "execution_count": null,
   "metadata": {
    "id": "1rHgwHde_0Jg"
   },
   "outputs": [],
   "source": [
    "from sklearn.preprocessing import MinMaxScaler\n",
    "scaler = MinMaxScaler()\n",
    "X_train = scaler.fit_transform(X_train)\n",
    "X_test = scaler.transform(X_test)"
   ]
  },
  {
   "cell_type": "code",
   "execution_count": null,
   "metadata": {
    "colab": {
     "base_uri": "https://localhost:8080/"
    },
    "id": "qxLq3TQd_ZVO",
    "outputId": "e46fab9b-cd71-42ca-9509-9f5c24e50419"
   },
   "outputs": [
    {
     "name": "stdout",
     "output_type": "stream",
     "text": [
      "Epoch 1/20\n",
      "130/130 [==============================] - 1s 6ms/step - loss: 0.6101 - accuracy: 0.6327 - val_loss: 0.4356 - val_accuracy: 0.7870\n",
      "Epoch 2/20\n",
      "130/130 [==============================] - 0s 2ms/step - loss: 0.4148 - accuracy: 0.8160 - val_loss: 0.3666 - val_accuracy: 0.8403\n",
      "Epoch 3/20\n",
      "130/130 [==============================] - 0s 2ms/step - loss: 0.3453 - accuracy: 0.8549 - val_loss: 0.3151 - val_accuracy: 0.8683\n",
      "Epoch 4/20\n",
      "130/130 [==============================] - 0s 2ms/step - loss: 0.2877 - accuracy: 0.8816 - val_loss: 0.2746 - val_accuracy: 0.8935\n",
      "Epoch 5/20\n",
      "130/130 [==============================] - 0s 2ms/step - loss: 0.2495 - accuracy: 0.9024 - val_loss: 0.2458 - val_accuracy: 0.9046\n",
      "Epoch 6/20\n",
      "130/130 [==============================] - 0s 2ms/step - loss: 0.2225 - accuracy: 0.9208 - val_loss: 0.2367 - val_accuracy: 0.9056\n",
      "Epoch 7/20\n",
      "130/130 [==============================] - 0s 2ms/step - loss: 0.2116 - accuracy: 0.9183 - val_loss: 0.2141 - val_accuracy: 0.9119\n",
      "Epoch 8/20\n",
      "130/130 [==============================] - 0s 2ms/step - loss: 0.1968 - accuracy: 0.9255 - val_loss: 0.2026 - val_accuracy: 0.9158\n",
      "Epoch 9/20\n",
      "130/130 [==============================] - 0s 2ms/step - loss: 0.1959 - accuracy: 0.9263 - val_loss: 0.1970 - val_accuracy: 0.9201\n",
      "Epoch 10/20\n",
      "130/130 [==============================] - 0s 2ms/step - loss: 0.1759 - accuracy: 0.9357 - val_loss: 0.1920 - val_accuracy: 0.9192\n",
      "Epoch 11/20\n",
      "130/130 [==============================] - 0s 2ms/step - loss: 0.1750 - accuracy: 0.9324 - val_loss: 0.1874 - val_accuracy: 0.9245\n",
      "Epoch 12/20\n",
      "130/130 [==============================] - 0s 2ms/step - loss: 0.1713 - accuracy: 0.9284 - val_loss: 0.1844 - val_accuracy: 0.9240\n",
      "Epoch 13/20\n",
      "130/130 [==============================] - 0s 2ms/step - loss: 0.1596 - accuracy: 0.9367 - val_loss: 0.1830 - val_accuracy: 0.9235\n",
      "Epoch 14/20\n",
      "130/130 [==============================] - 0s 2ms/step - loss: 0.1632 - accuracy: 0.9354 - val_loss: 0.1858 - val_accuracy: 0.9250\n",
      "Epoch 15/20\n",
      "130/130 [==============================] - 0s 2ms/step - loss: 0.1616 - accuracy: 0.9361 - val_loss: 0.1757 - val_accuracy: 0.9274\n",
      "Epoch 16/20\n",
      "130/130 [==============================] - 0s 2ms/step - loss: 0.1585 - accuracy: 0.9371 - val_loss: 0.1765 - val_accuracy: 0.9255\n",
      "Epoch 17/20\n",
      "130/130 [==============================] - 0s 2ms/step - loss: 0.1562 - accuracy: 0.9384 - val_loss: 0.1775 - val_accuracy: 0.9264\n",
      "Epoch 18/20\n",
      "130/130 [==============================] - 0s 2ms/step - loss: 0.1490 - accuracy: 0.9415 - val_loss: 0.1713 - val_accuracy: 0.9279\n",
      "Epoch 19/20\n",
      "130/130 [==============================] - 0s 2ms/step - loss: 0.1478 - accuracy: 0.9403 - val_loss: 0.1690 - val_accuracy: 0.9293\n",
      "Epoch 20/20\n",
      "130/130 [==============================] - 0s 2ms/step - loss: 0.1475 - accuracy: 0.9389 - val_loss: 0.1731 - val_accuracy: 0.9288\n"
     ]
    },
    {
     "data": {
      "text/plain": [
       "<tensorflow.python.keras.callbacks.History at 0x7fe8104e5390>"
      ]
     },
     "execution_count": 41,
     "metadata": {
      "tags": []
     },
     "output_type": "execute_result"
    }
   ],
   "source": [
    "model.fit(X_train, y_train, batch_size=64, epochs = 20, validation_data=(X_test, y_test))"
   ]
  }
 ],
 "metadata": {
  "colab": {
   "collapsed_sections": [],
   "name": "churn.ipynb",
   "provenance": []
  },
  "kernelspec": {
   "display_name": "Python 3",
   "language": "python",
   "name": "python3"
  },
  "language_info": {
   "codemirror_mode": {
    "name": "ipython",
    "version": 3
   },
   "file_extension": ".py",
   "mimetype": "text/x-python",
   "name": "python",
   "nbconvert_exporter": "python",
   "pygments_lexer": "ipython3",
   "version": "3.8.3"
  }
 },
 "nbformat": 4,
 "nbformat_minor": 1
}
